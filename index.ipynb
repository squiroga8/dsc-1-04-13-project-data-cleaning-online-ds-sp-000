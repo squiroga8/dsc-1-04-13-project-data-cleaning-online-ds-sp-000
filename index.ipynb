{
 "cells": [
  {
   "cell_type": "markdown",
   "metadata": {},
   "source": [
    "# Project - Data Cleaning\n",
    "\n",
    "## Introduction\n",
    "In this lab, we'll make use of everything we've learned about pandas, data cleaning, and Exploratory Data Analysis. In order to complete this lab, you'll have to make import, clean, combine, reshape, and visualize data to answer questions provided, as well as your own questions!\n",
    "\n",
    "## Objectives\n",
    "You will be able to:\n",
    "* Show mastery of the content covered in this section\n",
    "\n",
    "## The Dataset\n",
    "In this lab, we'll work with the comprehensive [Super Heroes Dataset](https://www.kaggle.com/claudiodavi/superhero-set/data), which can be found on Kaggle!\n",
    "\n",
    "## Goals\n",
    "* Use all available pandas knowledge to clean the dataset and deal with null values\n",
    "* Use Queries and aggregations to group the data into interesting subsets as needed\n",
    "* Use descriptive statistics and data visualization to find answers to questions we may have about the data. \n",
    "\n",
    "## Getting Started\n",
    "\n",
    "In the cell below:\n",
    "\n",
    "* Import and alias pandas as `pd`\n",
    "* Import and alias numpy as `np`\n",
    "* Import and alias seaborn as `sns`\n",
    "* Import and alias matplotlib.pyplot as `plt`\n",
    "* Set matplotlib visualizations to display inline in the notebook"
   ]
  },
  {
   "cell_type": "code",
   "execution_count": 1,
   "metadata": {},
   "outputs": [],
   "source": [
    "import pandas as pd\n",
    "import numpy as np\n",
    "import seaborn as sns\n",
    "import matplotlib.pyplot as plt\n",
    "%matplotlib inline"
   ]
  },
  {
   "cell_type": "markdown",
   "metadata": {},
   "source": [
    "For this lab, our dataset is split among two different sources--`heroes_information.csv` and `super_hero_powers.csv`.\n",
    "\n",
    "Use pandas to read in each file and store them in DataFrames in the appropriate variables below. Then, display the head of each to ensure that everything loaded correctly.  "
   ]
  },
  {
   "cell_type": "code",
   "execution_count": 2,
   "metadata": {},
   "outputs": [
    {
     "data": {
      "text/html": [
       "<div>\n",
       "<style scoped>\n",
       "    .dataframe tbody tr th:only-of-type {\n",
       "        vertical-align: middle;\n",
       "    }\n",
       "\n",
       "    .dataframe tbody tr th {\n",
       "        vertical-align: top;\n",
       "    }\n",
       "\n",
       "    .dataframe thead th {\n",
       "        text-align: right;\n",
       "    }\n",
       "</style>\n",
       "<table border=\"1\" class=\"dataframe\">\n",
       "  <thead>\n",
       "    <tr style=\"text-align: right;\">\n",
       "      <th></th>\n",
       "      <th>hero_names</th>\n",
       "      <th>Agility</th>\n",
       "      <th>Accelerated Healing</th>\n",
       "      <th>Lantern Power Ring</th>\n",
       "      <th>Dimensional Awareness</th>\n",
       "      <th>Cold Resistance</th>\n",
       "      <th>Durability</th>\n",
       "      <th>Stealth</th>\n",
       "      <th>Energy Absorption</th>\n",
       "      <th>Flight</th>\n",
       "      <th>...</th>\n",
       "      <th>Web Creation</th>\n",
       "      <th>Reality Warping</th>\n",
       "      <th>Odin Force</th>\n",
       "      <th>Symbiote Costume</th>\n",
       "      <th>Speed Force</th>\n",
       "      <th>Phoenix Force</th>\n",
       "      <th>Molecular Dissipation</th>\n",
       "      <th>Vision - Cryo</th>\n",
       "      <th>Omnipresent</th>\n",
       "      <th>Omniscient</th>\n",
       "    </tr>\n",
       "  </thead>\n",
       "  <tbody>\n",
       "    <tr>\n",
       "      <th>0</th>\n",
       "      <td>3-D Man</td>\n",
       "      <td>True</td>\n",
       "      <td>False</td>\n",
       "      <td>False</td>\n",
       "      <td>False</td>\n",
       "      <td>False</td>\n",
       "      <td>False</td>\n",
       "      <td>False</td>\n",
       "      <td>False</td>\n",
       "      <td>False</td>\n",
       "      <td>...</td>\n",
       "      <td>False</td>\n",
       "      <td>False</td>\n",
       "      <td>False</td>\n",
       "      <td>False</td>\n",
       "      <td>False</td>\n",
       "      <td>False</td>\n",
       "      <td>False</td>\n",
       "      <td>False</td>\n",
       "      <td>False</td>\n",
       "      <td>False</td>\n",
       "    </tr>\n",
       "    <tr>\n",
       "      <th>1</th>\n",
       "      <td>A-Bomb</td>\n",
       "      <td>False</td>\n",
       "      <td>True</td>\n",
       "      <td>False</td>\n",
       "      <td>False</td>\n",
       "      <td>False</td>\n",
       "      <td>True</td>\n",
       "      <td>False</td>\n",
       "      <td>False</td>\n",
       "      <td>False</td>\n",
       "      <td>...</td>\n",
       "      <td>False</td>\n",
       "      <td>False</td>\n",
       "      <td>False</td>\n",
       "      <td>False</td>\n",
       "      <td>False</td>\n",
       "      <td>False</td>\n",
       "      <td>False</td>\n",
       "      <td>False</td>\n",
       "      <td>False</td>\n",
       "      <td>False</td>\n",
       "    </tr>\n",
       "    <tr>\n",
       "      <th>2</th>\n",
       "      <td>Abe Sapien</td>\n",
       "      <td>True</td>\n",
       "      <td>True</td>\n",
       "      <td>False</td>\n",
       "      <td>False</td>\n",
       "      <td>True</td>\n",
       "      <td>True</td>\n",
       "      <td>False</td>\n",
       "      <td>False</td>\n",
       "      <td>False</td>\n",
       "      <td>...</td>\n",
       "      <td>False</td>\n",
       "      <td>False</td>\n",
       "      <td>False</td>\n",
       "      <td>False</td>\n",
       "      <td>False</td>\n",
       "      <td>False</td>\n",
       "      <td>False</td>\n",
       "      <td>False</td>\n",
       "      <td>False</td>\n",
       "      <td>False</td>\n",
       "    </tr>\n",
       "    <tr>\n",
       "      <th>3</th>\n",
       "      <td>Abin Sur</td>\n",
       "      <td>False</td>\n",
       "      <td>False</td>\n",
       "      <td>True</td>\n",
       "      <td>False</td>\n",
       "      <td>False</td>\n",
       "      <td>False</td>\n",
       "      <td>False</td>\n",
       "      <td>False</td>\n",
       "      <td>False</td>\n",
       "      <td>...</td>\n",
       "      <td>False</td>\n",
       "      <td>False</td>\n",
       "      <td>False</td>\n",
       "      <td>False</td>\n",
       "      <td>False</td>\n",
       "      <td>False</td>\n",
       "      <td>False</td>\n",
       "      <td>False</td>\n",
       "      <td>False</td>\n",
       "      <td>False</td>\n",
       "    </tr>\n",
       "    <tr>\n",
       "      <th>4</th>\n",
       "      <td>Abomination</td>\n",
       "      <td>False</td>\n",
       "      <td>True</td>\n",
       "      <td>False</td>\n",
       "      <td>False</td>\n",
       "      <td>False</td>\n",
       "      <td>False</td>\n",
       "      <td>False</td>\n",
       "      <td>False</td>\n",
       "      <td>False</td>\n",
       "      <td>...</td>\n",
       "      <td>False</td>\n",
       "      <td>False</td>\n",
       "      <td>False</td>\n",
       "      <td>False</td>\n",
       "      <td>False</td>\n",
       "      <td>False</td>\n",
       "      <td>False</td>\n",
       "      <td>False</td>\n",
       "      <td>False</td>\n",
       "      <td>False</td>\n",
       "    </tr>\n",
       "  </tbody>\n",
       "</table>\n",
       "<p>5 rows × 168 columns</p>\n",
       "</div>"
      ],
      "text/plain": [
       "    hero_names  Agility  Accelerated Healing  Lantern Power Ring  \\\n",
       "0      3-D Man     True                False               False   \n",
       "1       A-Bomb    False                 True               False   \n",
       "2   Abe Sapien     True                 True               False   \n",
       "3     Abin Sur    False                False                True   \n",
       "4  Abomination    False                 True               False   \n",
       "\n",
       "   Dimensional Awareness  Cold Resistance  Durability  Stealth  \\\n",
       "0                  False            False       False    False   \n",
       "1                  False            False        True    False   \n",
       "2                  False             True        True    False   \n",
       "3                  False            False       False    False   \n",
       "4                  False            False       False    False   \n",
       "\n",
       "   Energy Absorption  Flight     ...      Web Creation  Reality Warping  \\\n",
       "0              False   False     ...             False            False   \n",
       "1              False   False     ...             False            False   \n",
       "2              False   False     ...             False            False   \n",
       "3              False   False     ...             False            False   \n",
       "4              False   False     ...             False            False   \n",
       "\n",
       "   Odin Force  Symbiote Costume  Speed Force  Phoenix Force  \\\n",
       "0       False             False        False          False   \n",
       "1       False             False        False          False   \n",
       "2       False             False        False          False   \n",
       "3       False             False        False          False   \n",
       "4       False             False        False          False   \n",
       "\n",
       "   Molecular Dissipation  Vision - Cryo  Omnipresent  Omniscient  \n",
       "0                  False          False        False       False  \n",
       "1                  False          False        False       False  \n",
       "2                  False          False        False       False  \n",
       "3                  False          False        False       False  \n",
       "4                  False          False        False       False  \n",
       "\n",
       "[5 rows x 168 columns]"
      ]
     },
     "execution_count": 2,
     "metadata": {},
     "output_type": "execute_result"
    }
   ],
   "source": [
    "heroes_df = pd.read_csv('heroes_information.csv')\n",
    "powers_df = pd.read_csv('super_hero_powers.csv')\n",
    "\n",
    "powers_df.head()"
   ]
  },
  {
   "cell_type": "code",
   "execution_count": 3,
   "metadata": {},
   "outputs": [
    {
     "data": {
      "text/html": [
       "<div>\n",
       "<style scoped>\n",
       "    .dataframe tbody tr th:only-of-type {\n",
       "        vertical-align: middle;\n",
       "    }\n",
       "\n",
       "    .dataframe tbody tr th {\n",
       "        vertical-align: top;\n",
       "    }\n",
       "\n",
       "    .dataframe thead th {\n",
       "        text-align: right;\n",
       "    }\n",
       "</style>\n",
       "<table border=\"1\" class=\"dataframe\">\n",
       "  <thead>\n",
       "    <tr style=\"text-align: right;\">\n",
       "      <th></th>\n",
       "      <th>Unnamed: 0</th>\n",
       "      <th>name</th>\n",
       "      <th>Gender</th>\n",
       "      <th>Eye color</th>\n",
       "      <th>Race</th>\n",
       "      <th>Hair color</th>\n",
       "      <th>Height</th>\n",
       "      <th>Publisher</th>\n",
       "      <th>Skin color</th>\n",
       "      <th>Alignment</th>\n",
       "      <th>Weight</th>\n",
       "    </tr>\n",
       "  </thead>\n",
       "  <tbody>\n",
       "    <tr>\n",
       "      <th>0</th>\n",
       "      <td>0</td>\n",
       "      <td>A-Bomb</td>\n",
       "      <td>Male</td>\n",
       "      <td>yellow</td>\n",
       "      <td>Human</td>\n",
       "      <td>No Hair</td>\n",
       "      <td>203.0</td>\n",
       "      <td>Marvel Comics</td>\n",
       "      <td>-</td>\n",
       "      <td>good</td>\n",
       "      <td>441.0</td>\n",
       "    </tr>\n",
       "    <tr>\n",
       "      <th>1</th>\n",
       "      <td>1</td>\n",
       "      <td>Abe Sapien</td>\n",
       "      <td>Male</td>\n",
       "      <td>blue</td>\n",
       "      <td>Icthyo Sapien</td>\n",
       "      <td>No Hair</td>\n",
       "      <td>191.0</td>\n",
       "      <td>Dark Horse Comics</td>\n",
       "      <td>blue</td>\n",
       "      <td>good</td>\n",
       "      <td>65.0</td>\n",
       "    </tr>\n",
       "    <tr>\n",
       "      <th>2</th>\n",
       "      <td>2</td>\n",
       "      <td>Abin Sur</td>\n",
       "      <td>Male</td>\n",
       "      <td>blue</td>\n",
       "      <td>Ungaran</td>\n",
       "      <td>No Hair</td>\n",
       "      <td>185.0</td>\n",
       "      <td>DC Comics</td>\n",
       "      <td>red</td>\n",
       "      <td>good</td>\n",
       "      <td>90.0</td>\n",
       "    </tr>\n",
       "    <tr>\n",
       "      <th>3</th>\n",
       "      <td>3</td>\n",
       "      <td>Abomination</td>\n",
       "      <td>Male</td>\n",
       "      <td>green</td>\n",
       "      <td>Human / Radiation</td>\n",
       "      <td>No Hair</td>\n",
       "      <td>203.0</td>\n",
       "      <td>Marvel Comics</td>\n",
       "      <td>-</td>\n",
       "      <td>bad</td>\n",
       "      <td>441.0</td>\n",
       "    </tr>\n",
       "    <tr>\n",
       "      <th>4</th>\n",
       "      <td>4</td>\n",
       "      <td>Abraxas</td>\n",
       "      <td>Male</td>\n",
       "      <td>blue</td>\n",
       "      <td>Cosmic Entity</td>\n",
       "      <td>Black</td>\n",
       "      <td>-99.0</td>\n",
       "      <td>Marvel Comics</td>\n",
       "      <td>-</td>\n",
       "      <td>bad</td>\n",
       "      <td>-99.0</td>\n",
       "    </tr>\n",
       "  </tbody>\n",
       "</table>\n",
       "</div>"
      ],
      "text/plain": [
       "   Unnamed: 0         name Gender Eye color               Race Hair color  \\\n",
       "0           0       A-Bomb   Male    yellow              Human    No Hair   \n",
       "1           1   Abe Sapien   Male      blue      Icthyo Sapien    No Hair   \n",
       "2           2     Abin Sur   Male      blue            Ungaran    No Hair   \n",
       "3           3  Abomination   Male     green  Human / Radiation    No Hair   \n",
       "4           4      Abraxas   Male      blue      Cosmic Entity      Black   \n",
       "\n",
       "   Height          Publisher Skin color Alignment  Weight  \n",
       "0   203.0      Marvel Comics          -      good   441.0  \n",
       "1   191.0  Dark Horse Comics       blue      good    65.0  \n",
       "2   185.0          DC Comics        red      good    90.0  \n",
       "3   203.0      Marvel Comics          -       bad   441.0  \n",
       "4   -99.0      Marvel Comics          -       bad   -99.0  "
      ]
     },
     "execution_count": 3,
     "metadata": {},
     "output_type": "execute_result"
    }
   ],
   "source": [
    "heroes_df.head()"
   ]
  },
  {
   "cell_type": "markdown",
   "metadata": {},
   "source": [
    "It looks as if the heroes information dataset contained an index column.  We did not specify that this dataset contained an index column, because we hadn't seen it yet. Pandas does not know how to tell apart an index column from any other data, so it stored it with the column name `Unnamed: 0`.  \n",
    "\n",
    "Our DataFrame provided row indices by default, so this column is not needed.  Drop it from the DataFrame in place in the cell below, and then display the head of `heroes_df` to ensure that it worked properly. "
   ]
  },
  {
   "cell_type": "code",
   "execution_count": 4,
   "metadata": {},
   "outputs": [
    {
     "data": {
      "text/plain": [
       "Index(['Unnamed: 0', 'name', 'Gender', 'Eye color', 'Race', 'Hair color',\n",
       "       'Height', 'Publisher', 'Skin color', 'Alignment', 'Weight'],\n",
       "      dtype='object')"
      ]
     },
     "execution_count": 4,
     "metadata": {},
     "output_type": "execute_result"
    }
   ],
   "source": [
    "heroes_df.columns"
   ]
  },
  {
   "cell_type": "code",
   "execution_count": 5,
   "metadata": {},
   "outputs": [
    {
     "data": {
      "text/html": [
       "<div>\n",
       "<style scoped>\n",
       "    .dataframe tbody tr th:only-of-type {\n",
       "        vertical-align: middle;\n",
       "    }\n",
       "\n",
       "    .dataframe tbody tr th {\n",
       "        vertical-align: top;\n",
       "    }\n",
       "\n",
       "    .dataframe thead th {\n",
       "        text-align: right;\n",
       "    }\n",
       "</style>\n",
       "<table border=\"1\" class=\"dataframe\">\n",
       "  <thead>\n",
       "    <tr style=\"text-align: right;\">\n",
       "      <th></th>\n",
       "      <th>name</th>\n",
       "      <th>Gender</th>\n",
       "      <th>Eye color</th>\n",
       "      <th>Race</th>\n",
       "      <th>Hair color</th>\n",
       "      <th>Height</th>\n",
       "      <th>Publisher</th>\n",
       "      <th>Skin color</th>\n",
       "      <th>Alignment</th>\n",
       "      <th>Weight</th>\n",
       "    </tr>\n",
       "  </thead>\n",
       "  <tbody>\n",
       "    <tr>\n",
       "      <th>0</th>\n",
       "      <td>A-Bomb</td>\n",
       "      <td>Male</td>\n",
       "      <td>yellow</td>\n",
       "      <td>Human</td>\n",
       "      <td>No Hair</td>\n",
       "      <td>203.0</td>\n",
       "      <td>Marvel Comics</td>\n",
       "      <td>-</td>\n",
       "      <td>good</td>\n",
       "      <td>441.0</td>\n",
       "    </tr>\n",
       "    <tr>\n",
       "      <th>1</th>\n",
       "      <td>Abe Sapien</td>\n",
       "      <td>Male</td>\n",
       "      <td>blue</td>\n",
       "      <td>Icthyo Sapien</td>\n",
       "      <td>No Hair</td>\n",
       "      <td>191.0</td>\n",
       "      <td>Dark Horse Comics</td>\n",
       "      <td>blue</td>\n",
       "      <td>good</td>\n",
       "      <td>65.0</td>\n",
       "    </tr>\n",
       "    <tr>\n",
       "      <th>2</th>\n",
       "      <td>Abin Sur</td>\n",
       "      <td>Male</td>\n",
       "      <td>blue</td>\n",
       "      <td>Ungaran</td>\n",
       "      <td>No Hair</td>\n",
       "      <td>185.0</td>\n",
       "      <td>DC Comics</td>\n",
       "      <td>red</td>\n",
       "      <td>good</td>\n",
       "      <td>90.0</td>\n",
       "    </tr>\n",
       "    <tr>\n",
       "      <th>3</th>\n",
       "      <td>Abomination</td>\n",
       "      <td>Male</td>\n",
       "      <td>green</td>\n",
       "      <td>Human / Radiation</td>\n",
       "      <td>No Hair</td>\n",
       "      <td>203.0</td>\n",
       "      <td>Marvel Comics</td>\n",
       "      <td>-</td>\n",
       "      <td>bad</td>\n",
       "      <td>441.0</td>\n",
       "    </tr>\n",
       "    <tr>\n",
       "      <th>4</th>\n",
       "      <td>Abraxas</td>\n",
       "      <td>Male</td>\n",
       "      <td>blue</td>\n",
       "      <td>Cosmic Entity</td>\n",
       "      <td>Black</td>\n",
       "      <td>-99.0</td>\n",
       "      <td>Marvel Comics</td>\n",
       "      <td>-</td>\n",
       "      <td>bad</td>\n",
       "      <td>-99.0</td>\n",
       "    </tr>\n",
       "  </tbody>\n",
       "</table>\n",
       "</div>"
      ],
      "text/plain": [
       "          name Gender Eye color               Race Hair color  Height  \\\n",
       "0       A-Bomb   Male    yellow              Human    No Hair   203.0   \n",
       "1   Abe Sapien   Male      blue      Icthyo Sapien    No Hair   191.0   \n",
       "2     Abin Sur   Male      blue            Ungaran    No Hair   185.0   \n",
       "3  Abomination   Male     green  Human / Radiation    No Hair   203.0   \n",
       "4      Abraxas   Male      blue      Cosmic Entity      Black   -99.0   \n",
       "\n",
       "           Publisher Skin color Alignment  Weight  \n",
       "0      Marvel Comics          -      good   441.0  \n",
       "1  Dark Horse Comics       blue      good    65.0  \n",
       "2          DC Comics        red      good    90.0  \n",
       "3      Marvel Comics          -       bad   441.0  \n",
       "4      Marvel Comics          -       bad   -99.0  "
      ]
     },
     "execution_count": 5,
     "metadata": {},
     "output_type": "execute_result"
    }
   ],
   "source": [
    "heroes_df.drop('Unnamed: 0', axis=1, inplace=True)\n",
    "heroes_df.head()"
   ]
  },
  {
   "cell_type": "markdown",
   "metadata": {},
   "source": [
    "## Familiarize Yourself With the Dataset\n",
    "\n",
    "The first step in our Exploratory Data Analysis will be to get familiar with the data.  This step includes:\n",
    "\n",
    "* Understanding the dimensionality of your dataset\n",
    "* Investigating what type of data it contains, and the data types used to store it\n",
    "* Discovering how missing values are encoded, and how many there are\n",
    "* Getting a feel for what information it does and doesnt contain\n",
    "\n",
    "In the cell below, get the descriptive statistics of each DataFrame.  "
   ]
  },
  {
   "cell_type": "code",
   "execution_count": 6,
   "metadata": {
    "scrolled": true
   },
   "outputs": [
    {
     "data": {
      "text/html": [
       "<div>\n",
       "<style scoped>\n",
       "    .dataframe tbody tr th:only-of-type {\n",
       "        vertical-align: middle;\n",
       "    }\n",
       "\n",
       "    .dataframe tbody tr th {\n",
       "        vertical-align: top;\n",
       "    }\n",
       "\n",
       "    .dataframe thead th {\n",
       "        text-align: right;\n",
       "    }\n",
       "</style>\n",
       "<table border=\"1\" class=\"dataframe\">\n",
       "  <thead>\n",
       "    <tr style=\"text-align: right;\">\n",
       "      <th></th>\n",
       "      <th>Height</th>\n",
       "      <th>Weight</th>\n",
       "    </tr>\n",
       "  </thead>\n",
       "  <tbody>\n",
       "    <tr>\n",
       "      <th>count</th>\n",
       "      <td>734.000000</td>\n",
       "      <td>732.000000</td>\n",
       "    </tr>\n",
       "    <tr>\n",
       "      <th>mean</th>\n",
       "      <td>102.254087</td>\n",
       "      <td>43.855191</td>\n",
       "    </tr>\n",
       "    <tr>\n",
       "      <th>std</th>\n",
       "      <td>139.624543</td>\n",
       "      <td>130.823733</td>\n",
       "    </tr>\n",
       "    <tr>\n",
       "      <th>min</th>\n",
       "      <td>-99.000000</td>\n",
       "      <td>-99.000000</td>\n",
       "    </tr>\n",
       "    <tr>\n",
       "      <th>25%</th>\n",
       "      <td>-99.000000</td>\n",
       "      <td>-99.000000</td>\n",
       "    </tr>\n",
       "    <tr>\n",
       "      <th>50%</th>\n",
       "      <td>175.000000</td>\n",
       "      <td>62.000000</td>\n",
       "    </tr>\n",
       "    <tr>\n",
       "      <th>75%</th>\n",
       "      <td>185.000000</td>\n",
       "      <td>90.000000</td>\n",
       "    </tr>\n",
       "    <tr>\n",
       "      <th>max</th>\n",
       "      <td>975.000000</td>\n",
       "      <td>900.000000</td>\n",
       "    </tr>\n",
       "  </tbody>\n",
       "</table>\n",
       "</div>"
      ],
      "text/plain": [
       "           Height      Weight\n",
       "count  734.000000  732.000000\n",
       "mean   102.254087   43.855191\n",
       "std    139.624543  130.823733\n",
       "min    -99.000000  -99.000000\n",
       "25%    -99.000000  -99.000000\n",
       "50%    175.000000   62.000000\n",
       "75%    185.000000   90.000000\n",
       "max    975.000000  900.000000"
      ]
     },
     "execution_count": 6,
     "metadata": {},
     "output_type": "execute_result"
    }
   ],
   "source": [
    "heroes_df.describe()\n"
   ]
  },
  {
   "cell_type": "code",
   "execution_count": 7,
   "metadata": {},
   "outputs": [
    {
     "data": {
      "text/html": [
       "<div>\n",
       "<style scoped>\n",
       "    .dataframe tbody tr th:only-of-type {\n",
       "        vertical-align: middle;\n",
       "    }\n",
       "\n",
       "    .dataframe tbody tr th {\n",
       "        vertical-align: top;\n",
       "    }\n",
       "\n",
       "    .dataframe thead th {\n",
       "        text-align: right;\n",
       "    }\n",
       "</style>\n",
       "<table border=\"1\" class=\"dataframe\">\n",
       "  <thead>\n",
       "    <tr style=\"text-align: right;\">\n",
       "      <th></th>\n",
       "      <th>hero_names</th>\n",
       "      <th>Agility</th>\n",
       "      <th>Accelerated Healing</th>\n",
       "      <th>Lantern Power Ring</th>\n",
       "      <th>Dimensional Awareness</th>\n",
       "      <th>Cold Resistance</th>\n",
       "      <th>Durability</th>\n",
       "      <th>Stealth</th>\n",
       "      <th>Energy Absorption</th>\n",
       "      <th>Flight</th>\n",
       "      <th>...</th>\n",
       "      <th>Web Creation</th>\n",
       "      <th>Reality Warping</th>\n",
       "      <th>Odin Force</th>\n",
       "      <th>Symbiote Costume</th>\n",
       "      <th>Speed Force</th>\n",
       "      <th>Phoenix Force</th>\n",
       "      <th>Molecular Dissipation</th>\n",
       "      <th>Vision - Cryo</th>\n",
       "      <th>Omnipresent</th>\n",
       "      <th>Omniscient</th>\n",
       "    </tr>\n",
       "  </thead>\n",
       "  <tbody>\n",
       "    <tr>\n",
       "      <th>count</th>\n",
       "      <td>667</td>\n",
       "      <td>667</td>\n",
       "      <td>667</td>\n",
       "      <td>667</td>\n",
       "      <td>667</td>\n",
       "      <td>667</td>\n",
       "      <td>667</td>\n",
       "      <td>667</td>\n",
       "      <td>667</td>\n",
       "      <td>667</td>\n",
       "      <td>...</td>\n",
       "      <td>667</td>\n",
       "      <td>667</td>\n",
       "      <td>667</td>\n",
       "      <td>667</td>\n",
       "      <td>667</td>\n",
       "      <td>667</td>\n",
       "      <td>667</td>\n",
       "      <td>667</td>\n",
       "      <td>667</td>\n",
       "      <td>667</td>\n",
       "    </tr>\n",
       "    <tr>\n",
       "      <th>unique</th>\n",
       "      <td>667</td>\n",
       "      <td>2</td>\n",
       "      <td>2</td>\n",
       "      <td>2</td>\n",
       "      <td>2</td>\n",
       "      <td>2</td>\n",
       "      <td>2</td>\n",
       "      <td>2</td>\n",
       "      <td>2</td>\n",
       "      <td>2</td>\n",
       "      <td>...</td>\n",
       "      <td>2</td>\n",
       "      <td>2</td>\n",
       "      <td>2</td>\n",
       "      <td>2</td>\n",
       "      <td>2</td>\n",
       "      <td>2</td>\n",
       "      <td>2</td>\n",
       "      <td>2</td>\n",
       "      <td>2</td>\n",
       "      <td>2</td>\n",
       "    </tr>\n",
       "    <tr>\n",
       "      <th>top</th>\n",
       "      <td>King Kong</td>\n",
       "      <td>False</td>\n",
       "      <td>False</td>\n",
       "      <td>False</td>\n",
       "      <td>False</td>\n",
       "      <td>False</td>\n",
       "      <td>False</td>\n",
       "      <td>False</td>\n",
       "      <td>False</td>\n",
       "      <td>False</td>\n",
       "      <td>...</td>\n",
       "      <td>False</td>\n",
       "      <td>False</td>\n",
       "      <td>False</td>\n",
       "      <td>False</td>\n",
       "      <td>False</td>\n",
       "      <td>False</td>\n",
       "      <td>False</td>\n",
       "      <td>False</td>\n",
       "      <td>False</td>\n",
       "      <td>False</td>\n",
       "    </tr>\n",
       "    <tr>\n",
       "      <th>freq</th>\n",
       "      <td>1</td>\n",
       "      <td>425</td>\n",
       "      <td>489</td>\n",
       "      <td>656</td>\n",
       "      <td>642</td>\n",
       "      <td>620</td>\n",
       "      <td>410</td>\n",
       "      <td>541</td>\n",
       "      <td>590</td>\n",
       "      <td>455</td>\n",
       "      <td>...</td>\n",
       "      <td>653</td>\n",
       "      <td>651</td>\n",
       "      <td>665</td>\n",
       "      <td>658</td>\n",
       "      <td>666</td>\n",
       "      <td>666</td>\n",
       "      <td>666</td>\n",
       "      <td>665</td>\n",
       "      <td>665</td>\n",
       "      <td>665</td>\n",
       "    </tr>\n",
       "  </tbody>\n",
       "</table>\n",
       "<p>4 rows × 168 columns</p>\n",
       "</div>"
      ],
      "text/plain": [
       "       hero_names Agility Accelerated Healing Lantern Power Ring  \\\n",
       "count         667     667                 667                667   \n",
       "unique        667       2                   2                  2   \n",
       "top     King Kong   False               False              False   \n",
       "freq            1     425                 489                656   \n",
       "\n",
       "       Dimensional Awareness Cold Resistance Durability Stealth  \\\n",
       "count                    667             667        667     667   \n",
       "unique                     2               2          2       2   \n",
       "top                    False           False      False   False   \n",
       "freq                     642             620        410     541   \n",
       "\n",
       "       Energy Absorption Flight    ...     Web Creation Reality Warping  \\\n",
       "count                667    667    ...              667             667   \n",
       "unique                 2      2    ...                2               2   \n",
       "top                False  False    ...            False           False   \n",
       "freq                 590    455    ...              653             651   \n",
       "\n",
       "       Odin Force Symbiote Costume Speed Force Phoenix Force  \\\n",
       "count         667              667         667           667   \n",
       "unique          2                2           2             2   \n",
       "top         False            False       False         False   \n",
       "freq          665              658         666           666   \n",
       "\n",
       "       Molecular Dissipation Vision - Cryo Omnipresent Omniscient  \n",
       "count                    667           667         667        667  \n",
       "unique                     2             2           2          2  \n",
       "top                    False         False       False      False  \n",
       "freq                     666           665         665        665  \n",
       "\n",
       "[4 rows x 168 columns]"
      ]
     },
     "execution_count": 7,
     "metadata": {},
     "output_type": "execute_result"
    }
   ],
   "source": [
    "powers_df.describe()"
   ]
  },
  {
   "cell_type": "code",
   "execution_count": 8,
   "metadata": {
    "scrolled": true
   },
   "outputs": [
    {
     "name": "stdout",
     "output_type": "stream",
     "text": [
      "<class 'pandas.core.frame.DataFrame'>\n",
      "RangeIndex: 734 entries, 0 to 733\n",
      "Data columns (total 10 columns):\n",
      "name          734 non-null object\n",
      "Gender        734 non-null object\n",
      "Eye color     734 non-null object\n",
      "Race          734 non-null object\n",
      "Hair color    734 non-null object\n",
      "Height        734 non-null float64\n",
      "Publisher     719 non-null object\n",
      "Skin color    734 non-null object\n",
      "Alignment     734 non-null object\n",
      "Weight        732 non-null float64\n",
      "dtypes: float64(2), object(8)\n",
      "memory usage: 57.4+ KB\n"
     ]
    }
   ],
   "source": [
    "heroes_df.info()"
   ]
  },
  {
   "cell_type": "code",
   "execution_count": 9,
   "metadata": {},
   "outputs": [
    {
     "name": "stdout",
     "output_type": "stream",
     "text": [
      "<class 'pandas.core.frame.DataFrame'>\n",
      "RangeIndex: 667 entries, 0 to 666\n",
      "Columns: 168 entries, hero_names to Omniscient\n",
      "dtypes: bool(167), object(1)\n",
      "memory usage: 114.1+ KB\n"
     ]
    }
   ],
   "source": [
    "powers_df.info()"
   ]
  },
  {
   "cell_type": "markdown",
   "metadata": {},
   "source": [
    "## Dealing with Null Values\n",
    "\n",
    "Starting in the cell below, detect and deal with any null values in either data frame.  Then, explain your methodology for detecting and dealing with outliers in the markdown section below.  Be sure to explain your strategy for dealing with null values in numeric columns, as well as your strategy for dealing with null values in non-numeric columns.  \n",
    "\n",
    "Note that if you need to add more cells to write code in, you can do this by:\n",
    "\n",
    "**1.** Highlighting a cell and then pressing `ESC` to enter command mode.  \n",
    "**2.** Press `A` to add a cell above the highlighted cell, or `B` to add a cell below the highlighted cell. \n",
    "\n",
    "Describe your strategy below this line:\n",
    "____________________________________________________________________________________________________________________________\n",
    "\n",
    "\n"
   ]
  },
  {
   "cell_type": "markdown",
   "metadata": {},
   "source": [
    "Dealing with null values: heroes_df appears to have two variables with null values, one that numerical and one categorical. for the numerical i decided to replace the null values with the median value of that columne (Weight). for The categorical variable, Publisher, I've decided to replace the null values with \"missing\" in case this is a useful insight of the dataset later. I considered dropping the 15 rows that have null in Publisher, but the fact that there is no publisher could be useful."
   ]
  },
  {
   "cell_type": "code",
   "execution_count": 10,
   "metadata": {},
   "outputs": [
    {
     "data": {
      "text/plain": [
       "name           0\n",
       "Gender         0\n",
       "Eye color      0\n",
       "Race           0\n",
       "Hair color     0\n",
       "Height         0\n",
       "Publisher     15\n",
       "Skin color     0\n",
       "Alignment      0\n",
       "Weight         2\n",
       "dtype: int64"
      ]
     },
     "execution_count": 10,
     "metadata": {},
     "output_type": "execute_result"
    }
   ],
   "source": [
    "heroes_df.isna().sum()"
   ]
  },
  {
   "cell_type": "code",
   "execution_count": 11,
   "metadata": {},
   "outputs": [
    {
     "data": {
      "text/plain": [
       "734"
      ]
     },
     "execution_count": 11,
     "metadata": {},
     "output_type": "execute_result"
    }
   ],
   "source": [
    "#there are 237 weight values that equal -99. I'm not sure how to handle these observations, but they account for 32% of the data.\n",
    "len(heroes_df.Weight)"
   ]
  },
  {
   "cell_type": "code",
   "execution_count": 12,
   "metadata": {},
   "outputs": [
    {
     "data": {
      "text/plain": [
       "0.3228882833787466"
      ]
     },
     "execution_count": 12,
     "metadata": {},
     "output_type": "execute_result"
    }
   ],
   "source": [
    "237/734"
   ]
  },
  {
   "cell_type": "code",
   "execution_count": 13,
   "metadata": {
    "scrolled": true
   },
   "outputs": [
    {
     "data": {
      "text/plain": [
       "62.0"
      ]
     },
     "execution_count": 13,
     "metadata": {},
     "output_type": "execute_result"
    }
   ],
   "source": [
    "heroes_df.Weight.median()\n"
   ]
  },
  {
   "cell_type": "code",
   "execution_count": 14,
   "metadata": {},
   "outputs": [
    {
     "data": {
      "text/plain": [
       "43.8551912568306"
      ]
     },
     "execution_count": 14,
     "metadata": {},
     "output_type": "execute_result"
    }
   ],
   "source": [
    "heroes_df.Weight.mean()"
   ]
  },
  {
   "cell_type": "code",
   "execution_count": 15,
   "metadata": {
    "scrolled": true
   },
   "outputs": [
    {
     "data": {
      "text/plain": [
       "-99.0     237\n",
       " 79.0      23\n",
       " 54.0      23\n",
       " 81.0      22\n",
       " 90.0      19\n",
       " 52.0      15\n",
       " 86.0      15\n",
       " 59.0      14\n",
       " 56.0      13\n",
       " 77.0      13\n",
       " 61.0      13\n",
       " 101.0     12\n",
       " 50.0      12\n",
       " 88.0      11\n",
       " 63.0      11\n",
       " 83.0      10\n",
       " 95.0      10\n",
       " 74.0      10\n",
       " 65.0       9\n",
       " 72.0       8\n",
       " 68.0       8\n",
       " 104.0      8\n",
       " 135.0      8\n",
       " 57.0       7\n",
       " 97.0       7\n",
       " 99.0       7\n",
       " 117.0      6\n",
       " 108.0      6\n",
       " 55.0       5\n",
       " 70.0       5\n",
       "         ... \n",
       " 14.0       1\n",
       " 356.0      1\n",
       " 105.0      1\n",
       " 324.0      1\n",
       " 360.0      1\n",
       " 236.0      1\n",
       " 36.0       1\n",
       " 140.0      1\n",
       " 128.0      1\n",
       " 248.0      1\n",
       " 16.0       1\n",
       " 45.0       1\n",
       " 234.0      1\n",
       " 96.0       1\n",
       " 82.0       1\n",
       " 76.0       1\n",
       " 198.0      1\n",
       " 116.0      1\n",
       " 176.0      1\n",
       " 170.0      1\n",
       " 47.0       1\n",
       " 78.0       1\n",
       " 27.0       1\n",
       " 25.0       1\n",
       " 178.0      1\n",
       " 132.0      1\n",
       " 38.0       1\n",
       " 412.0      1\n",
       " 320.0      1\n",
       " 855.0      1\n",
       "Name: Weight, Length: 135, dtype: int64"
      ]
     },
     "execution_count": 15,
     "metadata": {},
     "output_type": "execute_result"
    }
   ],
   "source": [
    "heroes_df.Weight.value_counts()\n",
    "#looks like there are 2 Null values but also there appear to be 237 rows at -99.0 value."
   ]
  },
  {
   "cell_type": "code",
   "execution_count": 16,
   "metadata": {
    "scrolled": true
   },
   "outputs": [],
   "source": [
    "heroes_df['Weight'].fillna(heroes_df['Weight'].median(), inplace=True)"
   ]
  },
  {
   "cell_type": "code",
   "execution_count": 17,
   "metadata": {},
   "outputs": [
    {
     "data": {
      "text/plain": [
       "name           0\n",
       "Gender         0\n",
       "Eye color      0\n",
       "Race           0\n",
       "Hair color     0\n",
       "Height         0\n",
       "Publisher     15\n",
       "Skin color     0\n",
       "Alignment      0\n",
       "Weight         0\n",
       "dtype: int64"
      ]
     },
     "execution_count": 17,
     "metadata": {},
     "output_type": "execute_result"
    }
   ],
   "source": [
    "heroes_df.isna().sum()"
   ]
  },
  {
   "cell_type": "code",
   "execution_count": 18,
   "metadata": {},
   "outputs": [
    {
     "data": {
      "text/plain": [
       "Marvel Comics        388\n",
       "DC Comics            215\n",
       "NBC - Heroes          19\n",
       "Dark Horse Comics     18\n",
       "George Lucas          14\n",
       "Image Comics          14\n",
       "HarperCollins          6\n",
       "Star Trek              6\n",
       "SyFy                   5\n",
       "Team Epic TV           5\n",
       "Icon Comics            4\n",
       "IDW Publishing         4\n",
       "ABC Studios            4\n",
       "Shueisha               4\n",
       "Wildstorm              3\n",
       "Sony Pictures          2\n",
       "Hanna-Barbera          1\n",
       "J. K. Rowling          1\n",
       "South Park             1\n",
       "Microsoft              1\n",
       "Rebellion              1\n",
       "Universal Studios      1\n",
       "J. R. R. Tolkien       1\n",
       "Titan Books            1\n",
       "Name: Publisher, dtype: int64"
      ]
     },
     "execution_count": 18,
     "metadata": {},
     "output_type": "execute_result"
    }
   ],
   "source": [
    "heroes_df['Publisher'].value_counts()"
   ]
  },
  {
   "cell_type": "code",
   "execution_count": 19,
   "metadata": {},
   "outputs": [],
   "source": [
    "heroes_df['Publisher'].fillna(\"missing\", inplace = True)"
   ]
  },
  {
   "cell_type": "code",
   "execution_count": 20,
   "metadata": {},
   "outputs": [
    {
     "data": {
      "text/plain": [
       "name          0\n",
       "Gender        0\n",
       "Eye color     0\n",
       "Race          0\n",
       "Hair color    0\n",
       "Height        0\n",
       "Publisher     0\n",
       "Skin color    0\n",
       "Alignment     0\n",
       "Weight        0\n",
       "dtype: int64"
      ]
     },
     "execution_count": 20,
     "metadata": {},
     "output_type": "execute_result"
    }
   ],
   "source": [
    "heroes_df.isna().sum()"
   ]
  },
  {
   "cell_type": "code",
   "execution_count": 21,
   "metadata": {},
   "outputs": [
    {
     "data": {
      "text/plain": [
       "hero_names               0\n",
       "Agility                  0\n",
       "Accelerated Healing      0\n",
       "Lantern Power Ring       0\n",
       "Dimensional Awareness    0\n",
       "Cold Resistance          0\n",
       "Durability               0\n",
       "Stealth                  0\n",
       "Energy Absorption        0\n",
       "Flight                   0\n",
       "Danger Sense             0\n",
       "Underwater breathing     0\n",
       "Marksmanship             0\n",
       "Weapons Master           0\n",
       "Power Augmentation       0\n",
       "Animal Attributes        0\n",
       "Longevity                0\n",
       "Intelligence             0\n",
       "Super Strength           0\n",
       "Cryokinesis              0\n",
       "Telepathy                0\n",
       "Energy Armor             0\n",
       "Energy Blasts            0\n",
       "Duplication              0\n",
       "Size Changing            0\n",
       "Density Control          0\n",
       "Stamina                  0\n",
       "Astral Travel            0\n",
       "Audio Control            0\n",
       "Dexterity                0\n",
       "                        ..\n",
       "Intuitive aptitude       0\n",
       "Vision - Microscopic     0\n",
       "Melting                  0\n",
       "Wind Control             0\n",
       "Super Breath             0\n",
       "Wallcrawling             0\n",
       "Vision - Night           0\n",
       "Vision - Infrared        0\n",
       "Grim Reaping             0\n",
       "Matter Absorption        0\n",
       "The Force                0\n",
       "Resurrection             0\n",
       "Terrakinesis             0\n",
       "Vision - Heat            0\n",
       "Vitakinesis              0\n",
       "Radar Sense              0\n",
       "Qwardian Power Ring      0\n",
       "Weather Control          0\n",
       "Vision - X-Ray           0\n",
       "Vision - Thermal         0\n",
       "Web Creation             0\n",
       "Reality Warping          0\n",
       "Odin Force               0\n",
       "Symbiote Costume         0\n",
       "Speed Force              0\n",
       "Phoenix Force            0\n",
       "Molecular Dissipation    0\n",
       "Vision - Cryo            0\n",
       "Omnipresent              0\n",
       "Omniscient               0\n",
       "Length: 168, dtype: int64"
      ]
     },
     "execution_count": 21,
     "metadata": {},
     "output_type": "execute_result"
    }
   ],
   "source": [
    "powers_df.isna().sum()"
   ]
  },
  {
   "cell_type": "markdown",
   "metadata": {},
   "source": [
    "## Joining, Grouping, and Aggregating\n",
    "\n",
    "In the cell below, join the two DataFrames.  Think about which sort of join you should use, as well as which columns you should join on.  Rename columns and manipulate as needed.  \n",
    "\n",
    "**_HINT:_** If the join throws an error message, consider settin the the column you want to join on as the index for each DataFrame.  "
   ]
  },
  {
   "cell_type": "code",
   "execution_count": 22,
   "metadata": {},
   "outputs": [
    {
     "data": {
      "text/html": [
       "<div>\n",
       "<style scoped>\n",
       "    .dataframe tbody tr th:only-of-type {\n",
       "        vertical-align: middle;\n",
       "    }\n",
       "\n",
       "    .dataframe tbody tr th {\n",
       "        vertical-align: top;\n",
       "    }\n",
       "\n",
       "    .dataframe thead th {\n",
       "        text-align: right;\n",
       "    }\n",
       "</style>\n",
       "<table border=\"1\" class=\"dataframe\">\n",
       "  <thead>\n",
       "    <tr style=\"text-align: right;\">\n",
       "      <th></th>\n",
       "      <th>name</th>\n",
       "      <th>Gender</th>\n",
       "      <th>Eye color</th>\n",
       "      <th>Race</th>\n",
       "      <th>Hair color</th>\n",
       "      <th>Height</th>\n",
       "      <th>Publisher</th>\n",
       "      <th>Skin color</th>\n",
       "      <th>Alignment</th>\n",
       "      <th>Weight</th>\n",
       "    </tr>\n",
       "  </thead>\n",
       "  <tbody>\n",
       "    <tr>\n",
       "      <th>0</th>\n",
       "      <td>A-Bomb</td>\n",
       "      <td>Male</td>\n",
       "      <td>yellow</td>\n",
       "      <td>Human</td>\n",
       "      <td>No Hair</td>\n",
       "      <td>203.0</td>\n",
       "      <td>Marvel Comics</td>\n",
       "      <td>-</td>\n",
       "      <td>good</td>\n",
       "      <td>441.0</td>\n",
       "    </tr>\n",
       "    <tr>\n",
       "      <th>1</th>\n",
       "      <td>Abe Sapien</td>\n",
       "      <td>Male</td>\n",
       "      <td>blue</td>\n",
       "      <td>Icthyo Sapien</td>\n",
       "      <td>No Hair</td>\n",
       "      <td>191.0</td>\n",
       "      <td>Dark Horse Comics</td>\n",
       "      <td>blue</td>\n",
       "      <td>good</td>\n",
       "      <td>65.0</td>\n",
       "    </tr>\n",
       "    <tr>\n",
       "      <th>2</th>\n",
       "      <td>Abin Sur</td>\n",
       "      <td>Male</td>\n",
       "      <td>blue</td>\n",
       "      <td>Ungaran</td>\n",
       "      <td>No Hair</td>\n",
       "      <td>185.0</td>\n",
       "      <td>DC Comics</td>\n",
       "      <td>red</td>\n",
       "      <td>good</td>\n",
       "      <td>90.0</td>\n",
       "    </tr>\n",
       "    <tr>\n",
       "      <th>3</th>\n",
       "      <td>Abomination</td>\n",
       "      <td>Male</td>\n",
       "      <td>green</td>\n",
       "      <td>Human / Radiation</td>\n",
       "      <td>No Hair</td>\n",
       "      <td>203.0</td>\n",
       "      <td>Marvel Comics</td>\n",
       "      <td>-</td>\n",
       "      <td>bad</td>\n",
       "      <td>441.0</td>\n",
       "    </tr>\n",
       "    <tr>\n",
       "      <th>4</th>\n",
       "      <td>Abraxas</td>\n",
       "      <td>Male</td>\n",
       "      <td>blue</td>\n",
       "      <td>Cosmic Entity</td>\n",
       "      <td>Black</td>\n",
       "      <td>-99.0</td>\n",
       "      <td>Marvel Comics</td>\n",
       "      <td>-</td>\n",
       "      <td>bad</td>\n",
       "      <td>-99.0</td>\n",
       "    </tr>\n",
       "  </tbody>\n",
       "</table>\n",
       "</div>"
      ],
      "text/plain": [
       "          name Gender Eye color               Race Hair color  Height  \\\n",
       "0       A-Bomb   Male    yellow              Human    No Hair   203.0   \n",
       "1   Abe Sapien   Male      blue      Icthyo Sapien    No Hair   191.0   \n",
       "2     Abin Sur   Male      blue            Ungaran    No Hair   185.0   \n",
       "3  Abomination   Male     green  Human / Radiation    No Hair   203.0   \n",
       "4      Abraxas   Male      blue      Cosmic Entity      Black   -99.0   \n",
       "\n",
       "           Publisher Skin color Alignment  Weight  \n",
       "0      Marvel Comics          -      good   441.0  \n",
       "1  Dark Horse Comics       blue      good    65.0  \n",
       "2          DC Comics        red      good    90.0  \n",
       "3      Marvel Comics          -       bad   441.0  \n",
       "4      Marvel Comics          -       bad   -99.0  "
      ]
     },
     "metadata": {},
     "output_type": "display_data"
    },
    {
     "data": {
      "text/html": [
       "<div>\n",
       "<style scoped>\n",
       "    .dataframe tbody tr th:only-of-type {\n",
       "        vertical-align: middle;\n",
       "    }\n",
       "\n",
       "    .dataframe tbody tr th {\n",
       "        vertical-align: top;\n",
       "    }\n",
       "\n",
       "    .dataframe thead th {\n",
       "        text-align: right;\n",
       "    }\n",
       "</style>\n",
       "<table border=\"1\" class=\"dataframe\">\n",
       "  <thead>\n",
       "    <tr style=\"text-align: right;\">\n",
       "      <th></th>\n",
       "      <th>hero_names</th>\n",
       "      <th>Agility</th>\n",
       "      <th>Accelerated Healing</th>\n",
       "      <th>Lantern Power Ring</th>\n",
       "      <th>Dimensional Awareness</th>\n",
       "      <th>Cold Resistance</th>\n",
       "      <th>Durability</th>\n",
       "      <th>Stealth</th>\n",
       "      <th>Energy Absorption</th>\n",
       "      <th>Flight</th>\n",
       "      <th>...</th>\n",
       "      <th>Web Creation</th>\n",
       "      <th>Reality Warping</th>\n",
       "      <th>Odin Force</th>\n",
       "      <th>Symbiote Costume</th>\n",
       "      <th>Speed Force</th>\n",
       "      <th>Phoenix Force</th>\n",
       "      <th>Molecular Dissipation</th>\n",
       "      <th>Vision - Cryo</th>\n",
       "      <th>Omnipresent</th>\n",
       "      <th>Omniscient</th>\n",
       "    </tr>\n",
       "  </thead>\n",
       "  <tbody>\n",
       "    <tr>\n",
       "      <th>0</th>\n",
       "      <td>3-D Man</td>\n",
       "      <td>True</td>\n",
       "      <td>False</td>\n",
       "      <td>False</td>\n",
       "      <td>False</td>\n",
       "      <td>False</td>\n",
       "      <td>False</td>\n",
       "      <td>False</td>\n",
       "      <td>False</td>\n",
       "      <td>False</td>\n",
       "      <td>...</td>\n",
       "      <td>False</td>\n",
       "      <td>False</td>\n",
       "      <td>False</td>\n",
       "      <td>False</td>\n",
       "      <td>False</td>\n",
       "      <td>False</td>\n",
       "      <td>False</td>\n",
       "      <td>False</td>\n",
       "      <td>False</td>\n",
       "      <td>False</td>\n",
       "    </tr>\n",
       "    <tr>\n",
       "      <th>1</th>\n",
       "      <td>A-Bomb</td>\n",
       "      <td>False</td>\n",
       "      <td>True</td>\n",
       "      <td>False</td>\n",
       "      <td>False</td>\n",
       "      <td>False</td>\n",
       "      <td>True</td>\n",
       "      <td>False</td>\n",
       "      <td>False</td>\n",
       "      <td>False</td>\n",
       "      <td>...</td>\n",
       "      <td>False</td>\n",
       "      <td>False</td>\n",
       "      <td>False</td>\n",
       "      <td>False</td>\n",
       "      <td>False</td>\n",
       "      <td>False</td>\n",
       "      <td>False</td>\n",
       "      <td>False</td>\n",
       "      <td>False</td>\n",
       "      <td>False</td>\n",
       "    </tr>\n",
       "    <tr>\n",
       "      <th>2</th>\n",
       "      <td>Abe Sapien</td>\n",
       "      <td>True</td>\n",
       "      <td>True</td>\n",
       "      <td>False</td>\n",
       "      <td>False</td>\n",
       "      <td>True</td>\n",
       "      <td>True</td>\n",
       "      <td>False</td>\n",
       "      <td>False</td>\n",
       "      <td>False</td>\n",
       "      <td>...</td>\n",
       "      <td>False</td>\n",
       "      <td>False</td>\n",
       "      <td>False</td>\n",
       "      <td>False</td>\n",
       "      <td>False</td>\n",
       "      <td>False</td>\n",
       "      <td>False</td>\n",
       "      <td>False</td>\n",
       "      <td>False</td>\n",
       "      <td>False</td>\n",
       "    </tr>\n",
       "    <tr>\n",
       "      <th>3</th>\n",
       "      <td>Abin Sur</td>\n",
       "      <td>False</td>\n",
       "      <td>False</td>\n",
       "      <td>True</td>\n",
       "      <td>False</td>\n",
       "      <td>False</td>\n",
       "      <td>False</td>\n",
       "      <td>False</td>\n",
       "      <td>False</td>\n",
       "      <td>False</td>\n",
       "      <td>...</td>\n",
       "      <td>False</td>\n",
       "      <td>False</td>\n",
       "      <td>False</td>\n",
       "      <td>False</td>\n",
       "      <td>False</td>\n",
       "      <td>False</td>\n",
       "      <td>False</td>\n",
       "      <td>False</td>\n",
       "      <td>False</td>\n",
       "      <td>False</td>\n",
       "    </tr>\n",
       "    <tr>\n",
       "      <th>4</th>\n",
       "      <td>Abomination</td>\n",
       "      <td>False</td>\n",
       "      <td>True</td>\n",
       "      <td>False</td>\n",
       "      <td>False</td>\n",
       "      <td>False</td>\n",
       "      <td>False</td>\n",
       "      <td>False</td>\n",
       "      <td>False</td>\n",
       "      <td>False</td>\n",
       "      <td>...</td>\n",
       "      <td>False</td>\n",
       "      <td>False</td>\n",
       "      <td>False</td>\n",
       "      <td>False</td>\n",
       "      <td>False</td>\n",
       "      <td>False</td>\n",
       "      <td>False</td>\n",
       "      <td>False</td>\n",
       "      <td>False</td>\n",
       "      <td>False</td>\n",
       "    </tr>\n",
       "  </tbody>\n",
       "</table>\n",
       "<p>5 rows × 168 columns</p>\n",
       "</div>"
      ],
      "text/plain": [
       "    hero_names  Agility  Accelerated Healing  Lantern Power Ring  \\\n",
       "0      3-D Man     True                False               False   \n",
       "1       A-Bomb    False                 True               False   \n",
       "2   Abe Sapien     True                 True               False   \n",
       "3     Abin Sur    False                False                True   \n",
       "4  Abomination    False                 True               False   \n",
       "\n",
       "   Dimensional Awareness  Cold Resistance  Durability  Stealth  \\\n",
       "0                  False            False       False    False   \n",
       "1                  False            False        True    False   \n",
       "2                  False             True        True    False   \n",
       "3                  False            False       False    False   \n",
       "4                  False            False       False    False   \n",
       "\n",
       "   Energy Absorption  Flight     ...      Web Creation  Reality Warping  \\\n",
       "0              False   False     ...             False            False   \n",
       "1              False   False     ...             False            False   \n",
       "2              False   False     ...             False            False   \n",
       "3              False   False     ...             False            False   \n",
       "4              False   False     ...             False            False   \n",
       "\n",
       "   Odin Force  Symbiote Costume  Speed Force  Phoenix Force  \\\n",
       "0       False             False        False          False   \n",
       "1       False             False        False          False   \n",
       "2       False             False        False          False   \n",
       "3       False             False        False          False   \n",
       "4       False             False        False          False   \n",
       "\n",
       "   Molecular Dissipation  Vision - Cryo  Omnipresent  Omniscient  \n",
       "0                  False          False        False       False  \n",
       "1                  False          False        False       False  \n",
       "2                  False          False        False       False  \n",
       "3                  False          False        False       False  \n",
       "4                  False          False        False       False  \n",
       "\n",
       "[5 rows x 168 columns]"
      ]
     },
     "execution_count": 22,
     "metadata": {},
     "output_type": "execute_result"
    }
   ],
   "source": [
    "display(heroes_df.head())\n",
    "powers_df.head()"
   ]
  },
  {
   "cell_type": "code",
   "execution_count": 23,
   "metadata": {},
   "outputs": [],
   "source": [
    "powers_df.rename(columns={'hero_names': 'name'}, inplace=True)\n",
    "powers_df = powers_df.astype('str')"
   ]
  },
  {
   "cell_type": "code",
   "execution_count": 24,
   "metadata": {},
   "outputs": [
    {
     "data": {
      "text/html": [
       "<div>\n",
       "<style scoped>\n",
       "    .dataframe tbody tr th:only-of-type {\n",
       "        vertical-align: middle;\n",
       "    }\n",
       "\n",
       "    .dataframe tbody tr th {\n",
       "        vertical-align: top;\n",
       "    }\n",
       "\n",
       "    .dataframe thead th {\n",
       "        text-align: right;\n",
       "    }\n",
       "</style>\n",
       "<table border=\"1\" class=\"dataframe\">\n",
       "  <thead>\n",
       "    <tr style=\"text-align: right;\">\n",
       "      <th></th>\n",
       "      <th>Agility</th>\n",
       "      <th>Accelerated Healing</th>\n",
       "      <th>Lantern Power Ring</th>\n",
       "      <th>Dimensional Awareness</th>\n",
       "      <th>Cold Resistance</th>\n",
       "      <th>Durability</th>\n",
       "      <th>Stealth</th>\n",
       "      <th>Energy Absorption</th>\n",
       "      <th>Flight</th>\n",
       "      <th>Danger Sense</th>\n",
       "      <th>...</th>\n",
       "      <th>Omniscient</th>\n",
       "      <th>Gender</th>\n",
       "      <th>Eye color</th>\n",
       "      <th>Race</th>\n",
       "      <th>Hair color</th>\n",
       "      <th>Height</th>\n",
       "      <th>Publisher</th>\n",
       "      <th>Skin color</th>\n",
       "      <th>Alignment</th>\n",
       "      <th>Weight</th>\n",
       "    </tr>\n",
       "    <tr>\n",
       "      <th>name</th>\n",
       "      <th></th>\n",
       "      <th></th>\n",
       "      <th></th>\n",
       "      <th></th>\n",
       "      <th></th>\n",
       "      <th></th>\n",
       "      <th></th>\n",
       "      <th></th>\n",
       "      <th></th>\n",
       "      <th></th>\n",
       "      <th></th>\n",
       "      <th></th>\n",
       "      <th></th>\n",
       "      <th></th>\n",
       "      <th></th>\n",
       "      <th></th>\n",
       "      <th></th>\n",
       "      <th></th>\n",
       "      <th></th>\n",
       "      <th></th>\n",
       "      <th></th>\n",
       "    </tr>\n",
       "  </thead>\n",
       "  <tbody>\n",
       "    <tr>\n",
       "      <th>A-Bomb</th>\n",
       "      <td>False</td>\n",
       "      <td>True</td>\n",
       "      <td>False</td>\n",
       "      <td>False</td>\n",
       "      <td>False</td>\n",
       "      <td>True</td>\n",
       "      <td>False</td>\n",
       "      <td>False</td>\n",
       "      <td>False</td>\n",
       "      <td>False</td>\n",
       "      <td>...</td>\n",
       "      <td>False</td>\n",
       "      <td>Male</td>\n",
       "      <td>yellow</td>\n",
       "      <td>Human</td>\n",
       "      <td>No Hair</td>\n",
       "      <td>203.0</td>\n",
       "      <td>Marvel Comics</td>\n",
       "      <td>-</td>\n",
       "      <td>good</td>\n",
       "      <td>441.0</td>\n",
       "    </tr>\n",
       "    <tr>\n",
       "      <th>Abe Sapien</th>\n",
       "      <td>True</td>\n",
       "      <td>True</td>\n",
       "      <td>False</td>\n",
       "      <td>False</td>\n",
       "      <td>True</td>\n",
       "      <td>True</td>\n",
       "      <td>False</td>\n",
       "      <td>False</td>\n",
       "      <td>False</td>\n",
       "      <td>False</td>\n",
       "      <td>...</td>\n",
       "      <td>False</td>\n",
       "      <td>Male</td>\n",
       "      <td>blue</td>\n",
       "      <td>Icthyo Sapien</td>\n",
       "      <td>No Hair</td>\n",
       "      <td>191.0</td>\n",
       "      <td>Dark Horse Comics</td>\n",
       "      <td>blue</td>\n",
       "      <td>good</td>\n",
       "      <td>65.0</td>\n",
       "    </tr>\n",
       "    <tr>\n",
       "      <th>Abin Sur</th>\n",
       "      <td>False</td>\n",
       "      <td>False</td>\n",
       "      <td>True</td>\n",
       "      <td>False</td>\n",
       "      <td>False</td>\n",
       "      <td>False</td>\n",
       "      <td>False</td>\n",
       "      <td>False</td>\n",
       "      <td>False</td>\n",
       "      <td>False</td>\n",
       "      <td>...</td>\n",
       "      <td>False</td>\n",
       "      <td>Male</td>\n",
       "      <td>blue</td>\n",
       "      <td>Ungaran</td>\n",
       "      <td>No Hair</td>\n",
       "      <td>185.0</td>\n",
       "      <td>DC Comics</td>\n",
       "      <td>red</td>\n",
       "      <td>good</td>\n",
       "      <td>90.0</td>\n",
       "    </tr>\n",
       "    <tr>\n",
       "      <th>Abomination</th>\n",
       "      <td>False</td>\n",
       "      <td>True</td>\n",
       "      <td>False</td>\n",
       "      <td>False</td>\n",
       "      <td>False</td>\n",
       "      <td>False</td>\n",
       "      <td>False</td>\n",
       "      <td>False</td>\n",
       "      <td>False</td>\n",
       "      <td>False</td>\n",
       "      <td>...</td>\n",
       "      <td>False</td>\n",
       "      <td>Male</td>\n",
       "      <td>green</td>\n",
       "      <td>Human / Radiation</td>\n",
       "      <td>No Hair</td>\n",
       "      <td>203.0</td>\n",
       "      <td>Marvel Comics</td>\n",
       "      <td>-</td>\n",
       "      <td>bad</td>\n",
       "      <td>441.0</td>\n",
       "    </tr>\n",
       "    <tr>\n",
       "      <th>Abraxas</th>\n",
       "      <td>False</td>\n",
       "      <td>False</td>\n",
       "      <td>False</td>\n",
       "      <td>True</td>\n",
       "      <td>False</td>\n",
       "      <td>False</td>\n",
       "      <td>False</td>\n",
       "      <td>False</td>\n",
       "      <td>True</td>\n",
       "      <td>False</td>\n",
       "      <td>...</td>\n",
       "      <td>False</td>\n",
       "      <td>Male</td>\n",
       "      <td>blue</td>\n",
       "      <td>Cosmic Entity</td>\n",
       "      <td>Black</td>\n",
       "      <td>-99.0</td>\n",
       "      <td>Marvel Comics</td>\n",
       "      <td>-</td>\n",
       "      <td>bad</td>\n",
       "      <td>-99.0</td>\n",
       "    </tr>\n",
       "  </tbody>\n",
       "</table>\n",
       "<p>5 rows × 176 columns</p>\n",
       "</div>"
      ],
      "text/plain": [
       "            Agility Accelerated Healing Lantern Power Ring  \\\n",
       "name                                                         \n",
       "A-Bomb        False                True              False   \n",
       "Abe Sapien     True                True              False   \n",
       "Abin Sur      False               False               True   \n",
       "Abomination   False                True              False   \n",
       "Abraxas       False               False              False   \n",
       "\n",
       "            Dimensional Awareness Cold Resistance Durability Stealth  \\\n",
       "name                                                                   \n",
       "A-Bomb                      False           False       True   False   \n",
       "Abe Sapien                  False            True       True   False   \n",
       "Abin Sur                    False           False      False   False   \n",
       "Abomination                 False           False      False   False   \n",
       "Abraxas                      True           False      False   False   \n",
       "\n",
       "            Energy Absorption Flight Danger Sense  ...   Omniscient Gender  \\\n",
       "name                                               ...                       \n",
       "A-Bomb                  False  False        False  ...        False   Male   \n",
       "Abe Sapien              False  False        False  ...        False   Male   \n",
       "Abin Sur                False  False        False  ...        False   Male   \n",
       "Abomination             False  False        False  ...        False   Male   \n",
       "Abraxas                 False   True        False  ...        False   Male   \n",
       "\n",
       "            Eye color               Race Hair color Height          Publisher  \\\n",
       "name                                                                            \n",
       "A-Bomb         yellow              Human    No Hair  203.0      Marvel Comics   \n",
       "Abe Sapien       blue      Icthyo Sapien    No Hair  191.0  Dark Horse Comics   \n",
       "Abin Sur         blue            Ungaran    No Hair  185.0          DC Comics   \n",
       "Abomination     green  Human / Radiation    No Hair  203.0      Marvel Comics   \n",
       "Abraxas          blue      Cosmic Entity      Black  -99.0      Marvel Comics   \n",
       "\n",
       "            Skin color Alignment Weight  \n",
       "name                                     \n",
       "A-Bomb               -      good  441.0  \n",
       "Abe Sapien        blue      good   65.0  \n",
       "Abin Sur           red      good   90.0  \n",
       "Abomination          -       bad  441.0  \n",
       "Abraxas              -       bad  -99.0  \n",
       "\n",
       "[5 rows x 176 columns]"
      ]
     },
     "execution_count": 24,
     "metadata": {},
     "output_type": "execute_result"
    }
   ],
   "source": [
    "joined_df = powers_df.set_index('name').join(heroes_df.set_index('name'), how='inner')\n",
    "joined_df.head()"
   ]
  },
  {
   "cell_type": "markdown",
   "metadata": {},
   "source": [
    "In the cell below, subset male and female heroes into different dataframes.  Create a scatterplot of the height and weight of each hero, with weight as the y-axis.  Plot both the male and female heroes subset into each dataframe, and make the color for each point in the scatterplot correspond to the gender of the superhero."
   ]
  },
  {
   "cell_type": "code",
   "execution_count": 25,
   "metadata": {},
   "outputs": [],
   "source": [
    "female_df = joined_df.loc[joined_df['Gender'] != \"Male\"]"
   ]
  },
  {
   "cell_type": "code",
   "execution_count": 26,
   "metadata": {},
   "outputs": [],
   "source": [
    "female_df.set_index(\"Gender\", inplace=True)"
   ]
  },
  {
   "cell_type": "code",
   "execution_count": 27,
   "metadata": {
    "scrolled": true
   },
   "outputs": [
    {
     "data": {
      "text/html": [
       "<div>\n",
       "<style scoped>\n",
       "    .dataframe tbody tr th:only-of-type {\n",
       "        vertical-align: middle;\n",
       "    }\n",
       "\n",
       "    .dataframe tbody tr th {\n",
       "        vertical-align: top;\n",
       "    }\n",
       "\n",
       "    .dataframe thead th {\n",
       "        text-align: right;\n",
       "    }\n",
       "</style>\n",
       "<table border=\"1\" class=\"dataframe\">\n",
       "  <thead>\n",
       "    <tr style=\"text-align: right;\">\n",
       "      <th></th>\n",
       "      <th>Agility</th>\n",
       "      <th>Accelerated Healing</th>\n",
       "      <th>Lantern Power Ring</th>\n",
       "      <th>Dimensional Awareness</th>\n",
       "      <th>Cold Resistance</th>\n",
       "      <th>Durability</th>\n",
       "      <th>Stealth</th>\n",
       "      <th>Energy Absorption</th>\n",
       "      <th>Flight</th>\n",
       "      <th>Danger Sense</th>\n",
       "      <th>...</th>\n",
       "      <th>Omnipresent</th>\n",
       "      <th>Omniscient</th>\n",
       "      <th>Eye color</th>\n",
       "      <th>Race</th>\n",
       "      <th>Hair color</th>\n",
       "      <th>Height</th>\n",
       "      <th>Publisher</th>\n",
       "      <th>Skin color</th>\n",
       "      <th>Alignment</th>\n",
       "      <th>Weight</th>\n",
       "    </tr>\n",
       "    <tr>\n",
       "      <th>Gender</th>\n",
       "      <th></th>\n",
       "      <th></th>\n",
       "      <th></th>\n",
       "      <th></th>\n",
       "      <th></th>\n",
       "      <th></th>\n",
       "      <th></th>\n",
       "      <th></th>\n",
       "      <th></th>\n",
       "      <th></th>\n",
       "      <th></th>\n",
       "      <th></th>\n",
       "      <th></th>\n",
       "      <th></th>\n",
       "      <th></th>\n",
       "      <th></th>\n",
       "      <th></th>\n",
       "      <th></th>\n",
       "      <th></th>\n",
       "      <th></th>\n",
       "      <th></th>\n",
       "    </tr>\n",
       "  </thead>\n",
       "  <tbody>\n",
       "    <tr>\n",
       "      <th>Female</th>\n",
       "      <td>True</td>\n",
       "      <td>False</td>\n",
       "      <td>False</td>\n",
       "      <td>False</td>\n",
       "      <td>False</td>\n",
       "      <td>False</td>\n",
       "      <td>False</td>\n",
       "      <td>False</td>\n",
       "      <td>False</td>\n",
       "      <td>False</td>\n",
       "      <td>...</td>\n",
       "      <td>False</td>\n",
       "      <td>False</td>\n",
       "      <td>yellow</td>\n",
       "      <td>Mutant</td>\n",
       "      <td>Black</td>\n",
       "      <td>165.0</td>\n",
       "      <td>Marvel Comics</td>\n",
       "      <td>-</td>\n",
       "      <td>good</td>\n",
       "      <td>57.0</td>\n",
       "    </tr>\n",
       "    <tr>\n",
       "      <th>Female</th>\n",
       "      <td>False</td>\n",
       "      <td>False</td>\n",
       "      <td>False</td>\n",
       "      <td>False</td>\n",
       "      <td>False</td>\n",
       "      <td>False</td>\n",
       "      <td>False</td>\n",
       "      <td>False</td>\n",
       "      <td>True</td>\n",
       "      <td>False</td>\n",
       "      <td>...</td>\n",
       "      <td>False</td>\n",
       "      <td>False</td>\n",
       "      <td>brown</td>\n",
       "      <td>-</td>\n",
       "      <td>Black</td>\n",
       "      <td>163.0</td>\n",
       "      <td>Marvel Comics</td>\n",
       "      <td>-</td>\n",
       "      <td>good</td>\n",
       "      <td>54.0</td>\n",
       "    </tr>\n",
       "    <tr>\n",
       "      <th>Female</th>\n",
       "      <td>False</td>\n",
       "      <td>False</td>\n",
       "      <td>False</td>\n",
       "      <td>False</td>\n",
       "      <td>False</td>\n",
       "      <td>False</td>\n",
       "      <td>False</td>\n",
       "      <td>False</td>\n",
       "      <td>False</td>\n",
       "      <td>False</td>\n",
       "      <td>...</td>\n",
       "      <td>False</td>\n",
       "      <td>False</td>\n",
       "      <td>-</td>\n",
       "      <td>-</td>\n",
       "      <td>-</td>\n",
       "      <td>-99.0</td>\n",
       "      <td>Image Comics</td>\n",
       "      <td>-</td>\n",
       "      <td>bad</td>\n",
       "      <td>-99.0</td>\n",
       "    </tr>\n",
       "    <tr>\n",
       "      <th>Female</th>\n",
       "      <td>True</td>\n",
       "      <td>True</td>\n",
       "      <td>False</td>\n",
       "      <td>False</td>\n",
       "      <td>False</td>\n",
       "      <td>True</td>\n",
       "      <td>False</td>\n",
       "      <td>False</td>\n",
       "      <td>False</td>\n",
       "      <td>False</td>\n",
       "      <td>...</td>\n",
       "      <td>False</td>\n",
       "      <td>False</td>\n",
       "      <td>blue</td>\n",
       "      <td>Human</td>\n",
       "      <td>Blond</td>\n",
       "      <td>175.0</td>\n",
       "      <td>Marvel Comics</td>\n",
       "      <td>-</td>\n",
       "      <td>good</td>\n",
       "      <td>63.0</td>\n",
       "    </tr>\n",
       "    <tr>\n",
       "      <th>Female</th>\n",
       "      <td>False</td>\n",
       "      <td>False</td>\n",
       "      <td>False</td>\n",
       "      <td>False</td>\n",
       "      <td>False</td>\n",
       "      <td>True</td>\n",
       "      <td>False</td>\n",
       "      <td>False</td>\n",
       "      <td>False</td>\n",
       "      <td>False</td>\n",
       "      <td>...</td>\n",
       "      <td>False</td>\n",
       "      <td>False</td>\n",
       "      <td>violet</td>\n",
       "      <td>-</td>\n",
       "      <td>Purple</td>\n",
       "      <td>173.0</td>\n",
       "      <td>Marvel Comics</td>\n",
       "      <td>-</td>\n",
       "      <td>bad</td>\n",
       "      <td>57.0</td>\n",
       "    </tr>\n",
       "  </tbody>\n",
       "</table>\n",
       "<p>5 rows × 175 columns</p>\n",
       "</div>"
      ],
      "text/plain": [
       "       Agility Accelerated Healing Lantern Power Ring Dimensional Awareness  \\\n",
       "Gender                                                                        \n",
       "Female    True               False              False                 False   \n",
       "Female   False               False              False                 False   \n",
       "Female   False               False              False                 False   \n",
       "Female    True                True              False                 False   \n",
       "Female   False               False              False                 False   \n",
       "\n",
       "       Cold Resistance Durability Stealth Energy Absorption Flight  \\\n",
       "Gender                                                               \n",
       "Female           False      False   False             False  False   \n",
       "Female           False      False   False             False   True   \n",
       "Female           False      False   False             False  False   \n",
       "Female           False       True   False             False  False   \n",
       "Female           False       True   False             False  False   \n",
       "\n",
       "       Danger Sense  ...   Omnipresent Omniscient Eye color    Race  \\\n",
       "Gender               ...                                              \n",
       "Female        False  ...         False      False    yellow  Mutant   \n",
       "Female        False  ...         False      False     brown       -   \n",
       "Female        False  ...         False      False         -       -   \n",
       "Female        False  ...         False      False      blue   Human   \n",
       "Female        False  ...         False      False    violet       -   \n",
       "\n",
       "       Hair color Height      Publisher Skin color Alignment Weight  \n",
       "Gender                                                               \n",
       "Female      Black  165.0  Marvel Comics          -      good   57.0  \n",
       "Female      Black  163.0  Marvel Comics          -      good   54.0  \n",
       "Female          -  -99.0   Image Comics          -       bad  -99.0  \n",
       "Female      Blond  175.0  Marvel Comics          -      good   63.0  \n",
       "Female     Purple  173.0  Marvel Comics          -       bad   57.0  \n",
       "\n",
       "[5 rows x 175 columns]"
      ]
     },
     "execution_count": 27,
     "metadata": {},
     "output_type": "execute_result"
    }
   ],
   "source": [
    "female_df.head()"
   ]
  },
  {
   "cell_type": "code",
   "execution_count": 28,
   "metadata": {
    "scrolled": true
   },
   "outputs": [
    {
     "data": {
      "text/html": [
       "<div>\n",
       "<style scoped>\n",
       "    .dataframe tbody tr th:only-of-type {\n",
       "        vertical-align: middle;\n",
       "    }\n",
       "\n",
       "    .dataframe tbody tr th {\n",
       "        vertical-align: top;\n",
       "    }\n",
       "\n",
       "    .dataframe thead th {\n",
       "        text-align: right;\n",
       "    }\n",
       "</style>\n",
       "<table border=\"1\" class=\"dataframe\">\n",
       "  <thead>\n",
       "    <tr style=\"text-align: right;\">\n",
       "      <th></th>\n",
       "      <th>Agility</th>\n",
       "      <th>Accelerated Healing</th>\n",
       "      <th>Lantern Power Ring</th>\n",
       "      <th>Dimensional Awareness</th>\n",
       "      <th>Cold Resistance</th>\n",
       "      <th>Durability</th>\n",
       "      <th>Stealth</th>\n",
       "      <th>Energy Absorption</th>\n",
       "      <th>Flight</th>\n",
       "      <th>Danger Sense</th>\n",
       "      <th>...</th>\n",
       "      <th>Omnipresent</th>\n",
       "      <th>Omniscient</th>\n",
       "      <th>Eye color</th>\n",
       "      <th>Race</th>\n",
       "      <th>Hair color</th>\n",
       "      <th>Height</th>\n",
       "      <th>Publisher</th>\n",
       "      <th>Skin color</th>\n",
       "      <th>Alignment</th>\n",
       "      <th>Weight</th>\n",
       "    </tr>\n",
       "    <tr>\n",
       "      <th>Gender</th>\n",
       "      <th></th>\n",
       "      <th></th>\n",
       "      <th></th>\n",
       "      <th></th>\n",
       "      <th></th>\n",
       "      <th></th>\n",
       "      <th></th>\n",
       "      <th></th>\n",
       "      <th></th>\n",
       "      <th></th>\n",
       "      <th></th>\n",
       "      <th></th>\n",
       "      <th></th>\n",
       "      <th></th>\n",
       "      <th></th>\n",
       "      <th></th>\n",
       "      <th></th>\n",
       "      <th></th>\n",
       "      <th></th>\n",
       "      <th></th>\n",
       "      <th></th>\n",
       "    </tr>\n",
       "  </thead>\n",
       "  <tbody>\n",
       "    <tr>\n",
       "      <th>Male</th>\n",
       "      <td>False</td>\n",
       "      <td>True</td>\n",
       "      <td>False</td>\n",
       "      <td>False</td>\n",
       "      <td>False</td>\n",
       "      <td>True</td>\n",
       "      <td>False</td>\n",
       "      <td>False</td>\n",
       "      <td>False</td>\n",
       "      <td>False</td>\n",
       "      <td>...</td>\n",
       "      <td>False</td>\n",
       "      <td>False</td>\n",
       "      <td>yellow</td>\n",
       "      <td>Human</td>\n",
       "      <td>No Hair</td>\n",
       "      <td>203.0</td>\n",
       "      <td>Marvel Comics</td>\n",
       "      <td>-</td>\n",
       "      <td>good</td>\n",
       "      <td>441.0</td>\n",
       "    </tr>\n",
       "    <tr>\n",
       "      <th>Male</th>\n",
       "      <td>True</td>\n",
       "      <td>True</td>\n",
       "      <td>False</td>\n",
       "      <td>False</td>\n",
       "      <td>True</td>\n",
       "      <td>True</td>\n",
       "      <td>False</td>\n",
       "      <td>False</td>\n",
       "      <td>False</td>\n",
       "      <td>False</td>\n",
       "      <td>...</td>\n",
       "      <td>False</td>\n",
       "      <td>False</td>\n",
       "      <td>blue</td>\n",
       "      <td>Icthyo Sapien</td>\n",
       "      <td>No Hair</td>\n",
       "      <td>191.0</td>\n",
       "      <td>Dark Horse Comics</td>\n",
       "      <td>blue</td>\n",
       "      <td>good</td>\n",
       "      <td>65.0</td>\n",
       "    </tr>\n",
       "    <tr>\n",
       "      <th>Male</th>\n",
       "      <td>False</td>\n",
       "      <td>False</td>\n",
       "      <td>True</td>\n",
       "      <td>False</td>\n",
       "      <td>False</td>\n",
       "      <td>False</td>\n",
       "      <td>False</td>\n",
       "      <td>False</td>\n",
       "      <td>False</td>\n",
       "      <td>False</td>\n",
       "      <td>...</td>\n",
       "      <td>False</td>\n",
       "      <td>False</td>\n",
       "      <td>blue</td>\n",
       "      <td>Ungaran</td>\n",
       "      <td>No Hair</td>\n",
       "      <td>185.0</td>\n",
       "      <td>DC Comics</td>\n",
       "      <td>red</td>\n",
       "      <td>good</td>\n",
       "      <td>90.0</td>\n",
       "    </tr>\n",
       "    <tr>\n",
       "      <th>Male</th>\n",
       "      <td>False</td>\n",
       "      <td>True</td>\n",
       "      <td>False</td>\n",
       "      <td>False</td>\n",
       "      <td>False</td>\n",
       "      <td>False</td>\n",
       "      <td>False</td>\n",
       "      <td>False</td>\n",
       "      <td>False</td>\n",
       "      <td>False</td>\n",
       "      <td>...</td>\n",
       "      <td>False</td>\n",
       "      <td>False</td>\n",
       "      <td>green</td>\n",
       "      <td>Human / Radiation</td>\n",
       "      <td>No Hair</td>\n",
       "      <td>203.0</td>\n",
       "      <td>Marvel Comics</td>\n",
       "      <td>-</td>\n",
       "      <td>bad</td>\n",
       "      <td>441.0</td>\n",
       "    </tr>\n",
       "    <tr>\n",
       "      <th>Male</th>\n",
       "      <td>False</td>\n",
       "      <td>False</td>\n",
       "      <td>False</td>\n",
       "      <td>True</td>\n",
       "      <td>False</td>\n",
       "      <td>False</td>\n",
       "      <td>False</td>\n",
       "      <td>False</td>\n",
       "      <td>True</td>\n",
       "      <td>False</td>\n",
       "      <td>...</td>\n",
       "      <td>False</td>\n",
       "      <td>False</td>\n",
       "      <td>blue</td>\n",
       "      <td>Cosmic Entity</td>\n",
       "      <td>Black</td>\n",
       "      <td>-99.0</td>\n",
       "      <td>Marvel Comics</td>\n",
       "      <td>-</td>\n",
       "      <td>bad</td>\n",
       "      <td>-99.0</td>\n",
       "    </tr>\n",
       "  </tbody>\n",
       "</table>\n",
       "<p>5 rows × 175 columns</p>\n",
       "</div>"
      ],
      "text/plain": [
       "       Agility Accelerated Healing Lantern Power Ring Dimensional Awareness  \\\n",
       "Gender                                                                        \n",
       "Male     False                True              False                 False   \n",
       "Male      True                True              False                 False   \n",
       "Male     False               False               True                 False   \n",
       "Male     False                True              False                 False   \n",
       "Male     False               False              False                  True   \n",
       "\n",
       "       Cold Resistance Durability Stealth Energy Absorption Flight  \\\n",
       "Gender                                                               \n",
       "Male             False       True   False             False  False   \n",
       "Male              True       True   False             False  False   \n",
       "Male             False      False   False             False  False   \n",
       "Male             False      False   False             False  False   \n",
       "Male             False      False   False             False   True   \n",
       "\n",
       "       Danger Sense  ...   Omnipresent Omniscient Eye color  \\\n",
       "Gender               ...                                      \n",
       "Male          False  ...         False      False    yellow   \n",
       "Male          False  ...         False      False      blue   \n",
       "Male          False  ...         False      False      blue   \n",
       "Male          False  ...         False      False     green   \n",
       "Male          False  ...         False      False      blue   \n",
       "\n",
       "                     Race Hair color Height          Publisher Skin color  \\\n",
       "Gender                                                                      \n",
       "Male                Human    No Hair  203.0      Marvel Comics          -   \n",
       "Male        Icthyo Sapien    No Hair  191.0  Dark Horse Comics       blue   \n",
       "Male              Ungaran    No Hair  185.0          DC Comics        red   \n",
       "Male    Human / Radiation    No Hair  203.0      Marvel Comics          -   \n",
       "Male        Cosmic Entity      Black  -99.0      Marvel Comics          -   \n",
       "\n",
       "       Alignment Weight  \n",
       "Gender                   \n",
       "Male        good  441.0  \n",
       "Male        good   65.0  \n",
       "Male        good   90.0  \n",
       "Male         bad  441.0  \n",
       "Male         bad  -99.0  \n",
       "\n",
       "[5 rows x 175 columns]"
      ]
     },
     "execution_count": 28,
     "metadata": {},
     "output_type": "execute_result"
    }
   ],
   "source": [
    "male_df = joined_df.loc[joined_df['Gender'] != \"Female\"]\n",
    "male_df.set_index(\"Gender\", inplace=True)\n",
    "male_df.head()"
   ]
  },
  {
   "cell_type": "code",
   "execution_count": 29,
   "metadata": {
    "scrolled": true
   },
   "outputs": [
    {
     "data": {
      "text/plain": [
       "<matplotlib.axes._subplots.AxesSubplot at 0x1a20f79240>"
      ]
     },
     "execution_count": 29,
     "metadata": {},
     "output_type": "execute_result"
    },
    {
     "data": {
      "image/png": "[encoded data removed]",
      "text/plain": [
       "<Figure size 432x288 with 1 Axes>"
      ]
     },
     "metadata": {
      "needs_background": "light"
     },
     "output_type": "display_data"
    }
   ],
   "source": [
    "#Create a scatterplot of the height and weight of each hero, with weight as the y-axis. \n",
    "#Plot both the male and female heroes subset into each dataframe, \n",
    "#and make the color for each point in the scatterplot correspond to the gender of the superhero.\n",
    "heroes_df.plot.scatter(x=\"Height\", y = \"Weight\")"
   ]
  },
  {
   "cell_type": "code",
   "execution_count": 30,
   "metadata": {},
   "outputs": [
    {
     "data": {
      "text/plain": [
       "<matplotlib.axes._subplots.AxesSubplot at 0x1a21dd6a90>"
      ]
     },
     "execution_count": 30,
     "metadata": {},
     "output_type": "execute_result"
    },
    {
     "data": {
      "image/png": "[encoded data removed]",
      "text/plain": [
       "<Figure size 432x288 with 1 Axes>"
      ]
     },
     "metadata": {
      "needs_background": "light"
     },
     "output_type": "display_data"
    },
    {
     "data": {
      "image/png": "[encoded data removed]",
      "text/plain": [
       "<Figure size 432x288 with 1 Axes>"
      ]
     },
     "metadata": {
      "needs_background": "light"
     },
     "output_type": "display_data"
    }
   ],
   "source": [
    "female_df.plot.scatter(x='Height', y = 'Weight', c=\"red\")\n",
    "male_df.plot.scatter(x='Height', y='Weight', c=\"blue\")"
   ]
  },
  {
   "cell_type": "markdown",
   "metadata": {},
   "source": [
    "## Some Initial Investigation\n",
    "\n",
    "Next, slice the DataFrame as needed and visualize the distribution of heights and weights by gender.  You should have 4 total plots.  \n",
    "\n",
    "In the cell below:\n",
    "\n",
    "* Slice the DataFrame into separate DataFrames by gender\n",
    "* Complete the `show_distplot` function.  This helper function should take in a DataFrame, a string containing the gender we want to visualize, and and the column name we want to visualize by gender. The function should display a distplot visualization from seaborn of the column/gender combination.  \n",
    "\n",
    "Hint: Don't forget to check the [seaborn documentation for distplot](https://seaborn.pydata.org/generated/seaborn.distplot.html) if you have questions about how to use it correctly! "
   ]
  },
  {
   "cell_type": "code",
   "execution_count": 31,
   "metadata": {
    "scrolled": true
   },
   "outputs": [],
   "source": [
    "male_heroes_df = heroes_df[heroes_df['Gender'] == 'Male']\n",
    "female_heroes_df = heroes_df[heroes_df['Gender']=='Female']\n",
    "\n",
    "def show_distplot(dataframe, gender, column_name):\n",
    "    plt.plot()\n",
    "    sns.distplot(dataframe[column_name])\n",
    "    plt.title(\"Distribution of {} by {} Heroes\".format(column_name, gender))\n",
    "    plt.xlabel(column_name)\n",
    "    plt.ylabel(\"Probability Density\")\n",
    "    plt.show()"
   ]
  },
  {
   "cell_type": "code",
   "execution_count": 32,
   "metadata": {},
   "outputs": [
    {
     "name": "stderr",
     "output_type": "stream",
     "text": [
      "/anaconda3/envs/learn-env/lib/python3.6/site-packages/scipy/stats/stats.py:1713: FutureWarning: Using a non-tuple sequence for multidimensional indexing is deprecated; use `arr[tuple(seq)]` instead of `arr[seq]`. In the future this will be interpreted as an array index, `arr[np.array(seq)]`, which will result either in an error or a different result.\n",
      "  return np.add.reduce(sorted[indexer] * weights, axis=axis) / sumval\n"
     ]
    },
    {
     "data": {
      "image/png": "[encoded data removed]",
      "text/plain": [
       "<Figure size 432x288 with 1 Axes>"
      ]
     },
     "metadata": {
      "needs_background": "light"
     },
     "output_type": "display_data"
    }
   ],
   "source": [
    "#Male Height\n",
    "show_distplot(heroes_df, 'Male', 'Height')"
   ]
  },
  {
   "cell_type": "code",
   "execution_count": 33,
   "metadata": {},
   "outputs": [
    {
     "name": "stderr",
     "output_type": "stream",
     "text": [
      "/anaconda3/envs/learn-env/lib/python3.6/site-packages/scipy/stats/stats.py:1713: FutureWarning: Using a non-tuple sequence for multidimensional indexing is deprecated; use `arr[tuple(seq)]` instead of `arr[seq]`. In the future this will be interpreted as an array index, `arr[np.array(seq)]`, which will result either in an error or a different result.\n",
      "  return np.add.reduce(sorted[indexer] * weights, axis=axis) / sumval\n"
     ]
    },
    {
     "data": {
      "image/png": "[encoded data removed]",
      "text/plain": [
       "<Figure size 432x288 with 1 Axes>"
      ]
     },
     "metadata": {
      "needs_background": "light"
     },
     "output_type": "display_data"
    }
   ],
   "source": [
    "# Male Weight\n",
    "show_distplot(heroes_df, 'Male', 'Weight')"
   ]
  },
  {
   "cell_type": "code",
   "execution_count": 34,
   "metadata": {},
   "outputs": [
    {
     "name": "stderr",
     "output_type": "stream",
     "text": [
      "/anaconda3/envs/learn-env/lib/python3.6/site-packages/scipy/stats/stats.py:1713: FutureWarning: Using a non-tuple sequence for multidimensional indexing is deprecated; use `arr[tuple(seq)]` instead of `arr[seq]`. In the future this will be interpreted as an array index, `arr[np.array(seq)]`, which will result either in an error or a different result.\n",
      "  return np.add.reduce(sorted[indexer] * weights, axis=axis) / sumval\n"
     ]
    },
    {
     "data": {
      "image/png": "[encoded data removed]",
      "text/plain": [
       "<Figure size 432x288 with 1 Axes>"
      ]
     },
     "metadata": {
      "needs_background": "light"
     },
     "output_type": "display_data"
    }
   ],
   "source": [
    "# Female Height\n",
    "show_distplot(heroes_df, 'Female', 'Height')"
   ]
  },
  {
   "cell_type": "code",
   "execution_count": 35,
   "metadata": {
    "scrolled": true
   },
   "outputs": [
    {
     "name": "stderr",
     "output_type": "stream",
     "text": [
      "/anaconda3/envs/learn-env/lib/python3.6/site-packages/scipy/stats/stats.py:1713: FutureWarning: Using a non-tuple sequence for multidimensional indexing is deprecated; use `arr[tuple(seq)]` instead of `arr[seq]`. In the future this will be interpreted as an array index, `arr[np.array(seq)]`, which will result either in an error or a different result.\n",
      "  return np.add.reduce(sorted[indexer] * weights, axis=axis) / sumval\n"
     ]
    },
    {
     "data": {
      "image/png": "[encoded data removed]",
      "text/plain": [
       "<Figure size 432x288 with 1 Axes>"
      ]
     },
     "metadata": {
      "needs_background": "light"
     },
     "output_type": "display_data"
    }
   ],
   "source": [
    "# Female Weight\n",
    "show_distplot(heroes_df, \"Female\", \"Weight\")"
   ]
  },
  {
   "cell_type": "code",
   "execution_count": 36,
   "metadata": {
    "scrolled": true
   },
   "outputs": [
    {
     "name": "stdout",
     "output_type": "stream",
     "text": [
      "Male Hero Height Stats\n"
     ]
    },
    {
     "data": {
      "text/plain": [
       "count    505.000000\n",
       "mean     107.275248\n",
       "std      144.435370\n",
       "min      -99.000000\n",
       "25%      -99.000000\n",
       "50%      180.000000\n",
       "75%      188.000000\n",
       "max      975.000000\n",
       "Name: Height, dtype: float64"
      ]
     },
     "execution_count": 36,
     "metadata": {},
     "output_type": "execute_result"
    }
   ],
   "source": [
    "print(\"Male Hero Height Stats\")\n",
    "male_heroes_df.Height.describe()"
   ]
  },
  {
   "cell_type": "code",
   "execution_count": 37,
   "metadata": {},
   "outputs": [
    {
     "name": "stdout",
     "output_type": "stream",
     "text": [
      "Male Hero Weight Stats\n"
     ]
    },
    {
     "data": {
      "text/plain": [
       "count    505.000000\n",
       "mean      52.071287\n",
       "std      139.075515\n",
       "min      -99.000000\n",
       "25%      -99.000000\n",
       "50%       79.000000\n",
       "75%      101.000000\n",
       "max      900.000000\n",
       "Name: Weight, dtype: float64"
      ]
     },
     "execution_count": 37,
     "metadata": {},
     "output_type": "execute_result"
    }
   ],
   "source": [
    "print(\"Male Hero Weight Stats\")\n",
    "male_heroes_df.Weight.describe()"
   ]
  },
  {
   "cell_type": "code",
   "execution_count": 38,
   "metadata": {},
   "outputs": [
    {
     "name": "stdout",
     "output_type": "stream",
     "text": [
      "Female Hero Height Stats\n"
     ]
    },
    {
     "data": {
      "text/plain": [
       "count    200.000000\n",
       "mean      98.052500\n",
       "std      124.819341\n",
       "min      -99.000000\n",
       "25%      -99.000000\n",
       "50%      168.000000\n",
       "75%      175.000000\n",
       "max      366.000000\n",
       "Name: Height, dtype: float64"
      ]
     },
     "execution_count": 38,
     "metadata": {},
     "output_type": "execute_result"
    }
   ],
   "source": [
    "print(\"Female Hero Height Stats\")\n",
    "female_heroes_df.Height.describe()"
   ]
  },
  {
   "cell_type": "code",
   "execution_count": 39,
   "metadata": {},
   "outputs": [
    {
     "name": "stdout",
     "output_type": "stream",
     "text": [
      "Female Hero Weight Stats\n"
     ]
    },
    {
     "data": {
      "text/plain": [
       "count    200.000000\n",
       "mean      27.265000\n",
       "std      103.648007\n",
       "min      -99.000000\n",
       "25%      -99.000000\n",
       "50%       54.000000\n",
       "75%       61.000000\n",
       "max      630.000000\n",
       "Name: Weight, dtype: float64"
      ]
     },
     "execution_count": 39,
     "metadata": {},
     "output_type": "execute_result"
    }
   ],
   "source": [
    "print(\"Female Hero Weight Stats\")\n",
    "female_heroes_df.Weight.describe()"
   ]
  },
  {
   "cell_type": "markdown",
   "metadata": {},
   "source": [
    "Discuss your findings from the plots above, with respect to the distibution of height and weight by gender.  Your explanation should include discussion of any relevant summary statistics, including mean, median, mode, and the overall shape of each distribution.  \n",
    "\n",
    "Wite your answer below this line:\n",
    "____________________________________________________________________________________________________________________________\n",
    "\n"
   ]
  },
  {
   "cell_type": "markdown",
   "metadata": {},
   "source": [
    "Each of these distributions have two humps, which indicates that these are not as normally distributed as one might have expected. Also, they all have some unexpected outliers - namely that they all have a nigh amount of negative values. I think this is due to the fact that -99.0 was used perhaps as a null value?  The bottom quantile or 25% of the data has a value of -99. All the means are lower than the medians, likely because they're being pulled down by the -99 outliers."
   ]
  },
  {
   "cell_type": "markdown",
   "metadata": {},
   "source": [
    "### Sample Question: Most Common Powers\n",
    "\n",
    "The rest of this notebook will be left to you to investigate the dataset by formulating your own questions, and then seeking answers using pandas and numpy.  Every answer should include some sort of visualization, when appropriate. Before moving on to formulating your own questions, use the dataset to answer the following questions about superhero powers:\n",
    "\n",
    "* What are the 5 most common powers overall?\n",
    "* What are the 5 most common powers in the Marvel Universe?\n",
    "* What are the 5 most common powers in the DC Universe?"
   ]
  },
  {
   "cell_type": "code",
   "execution_count": 40,
   "metadata": {},
   "outputs": [
    {
     "data": {
      "text/plain": [
       "Index(['name', 'Agility', 'Accelerated Healing', 'Lantern Power Ring',\n",
       "       'Dimensional Awareness', 'Cold Resistance', 'Durability', 'Stealth',\n",
       "       'Energy Absorption', 'Flight',\n",
       "       ...\n",
       "       'Web Creation', 'Reality Warping', 'Odin Force', 'Symbiote Costume',\n",
       "       'Speed Force', 'Phoenix Force', 'Molecular Dissipation',\n",
       "       'Vision - Cryo', 'Omnipresent', 'Omniscient'],\n",
       "      dtype='object', length=168)"
      ]
     },
     "execution_count": 40,
     "metadata": {},
     "output_type": "execute_result"
    }
   ],
   "source": [
    "#the 5 most common powers overall\n",
    "powers_df.columns"
   ]
  },
  {
   "cell_type": "code",
   "execution_count": 41,
   "metadata": {},
   "outputs": [
    {
     "data": {
      "text/plain": [
       "176"
      ]
     },
     "execution_count": 41,
     "metadata": {},
     "output_type": "execute_result"
    }
   ],
   "source": [
    "len(joined_df.columns)"
   ]
  },
  {
   "cell_type": "code",
   "execution_count": 42,
   "metadata": {},
   "outputs": [],
   "source": [
    "def top_5_powers(dataframe):\n",
    "    df = dataframe.drop(heroes_df.columns.values[1:], axis = 1)\n",
    "    columns = df.columns.values\n",
    "    for col in columns:\n",
    "        df[col] = df[col].map({\"True\": 1, \"False\": 0})\n",
    "        \n",
    "    power_counts_dict = dict(df.sum())\n",
    "    \n",
    "    return sorted(power_counts_dict.items(), key=lambda x: x[1], reverse=True)[:5]\n",
    "\n",
    "top_5 = top_5_powers(joined_df)"
   ]
  },
  {
   "cell_type": "code",
   "execution_count": 43,
   "metadata": {},
   "outputs": [
    {
     "name": "stdout",
     "output_type": "stream",
     "text": [
      "[('Super Strength', 362), ('Stamina', 294), ('Durability', 262), ('Super Speed', 251), ('Agility', 244)]\n"
     ]
    }
   ],
   "source": [
    "print(top_5)"
   ]
  },
  {
   "cell_type": "code",
   "execution_count": 44,
   "metadata": {},
   "outputs": [
    {
     "data": {
      "text/plain": [
       "name\n",
       "A-Bomb             Marvel Comics\n",
       "Abe Sapien     Dark Horse Comics\n",
       "Abin Sur               DC Comics\n",
       "Abomination        Marvel Comics\n",
       "Abraxas            Marvel Comics\n",
       "Name: Publisher, dtype: object"
      ]
     },
     "execution_count": 44,
     "metadata": {},
     "output_type": "execute_result"
    }
   ],
   "source": [
    "joined_df.Publisher.head()"
   ]
  },
  {
   "cell_type": "code",
   "execution_count": 45,
   "metadata": {},
   "outputs": [
    {
     "name": "stdout",
     "output_type": "stream",
     "text": [
      "[('Super Strength', 204), ('Durability', 154), ('Stamina', 150), ('Super Speed', 137), ('Agility', 126)]\n"
     ]
    }
   ],
   "source": [
    "marvel_df = joined_df[joined_df[\"Publisher\"] == \"Marvel Comics\"]\n",
    "marvel_top_5 = top_5_powers(marvel_df)\n",
    "print(marvel_top_5)"
   ]
  },
  {
   "cell_type": "code",
   "execution_count": 46,
   "metadata": {},
   "outputs": [
    {
     "name": "stdout",
     "output_type": "stream",
     "text": [
      "[('Super Strength', 109), ('Stamina', 90), ('Flight', 86), ('Super Speed', 79), ('Agility', 71)]\n"
     ]
    }
   ],
   "source": [
    "dc_df = joined_df[joined_df['Publisher'] == \"DC Comics\"]\n",
    "dc_top_5 = top_5_powers(dc_df)\n",
    "print(dc_top_5)"
   ]
  },
  {
   "cell_type": "markdown",
   "metadata": {},
   "source": [
    "Analyze the results you found above to answer the following question:\n",
    "\n",
    "How do the top 5 powers in the Marvel and DC universes compare?  Are they similar, or are there significant differences? How do they compare to the overall trends in the entire Superheroes dataset?\n",
    "\n",
    "Wite your answer below this line:\n",
    "____________________________________________________________________________________________________________________________\n",
    "Super Strength and Stamina are within the top 3 overall and for each subset. between DC and Marvel, super strength is top, and the only different powers between the two are that dc has flight and marvel has durability. marvel overall has a lot higher counts in each of the top 5 powers.\n",
    "\n",
    "### Your Own Investigation\n",
    "\n",
    "For the remainder of this lab, you'll be focusing on coming up with and answering your own question, just like we did above.  Your question should not be overly simple, and should require both descriptive statistics and data visualization to answer.  In case you're unsure of what questions to ask, some sample questions have been provided below.\n",
    "\n",
    "Pick one of the following questions to investigate and answer, or come up with one of your own!\n",
    "\n",
    "* Which powers have the highest chance of co-occuring in a hero (e.g. super strength and flight), and does this differ by gender?\n",
    "* Is there a relationship between a hero's height and weight and their powerset?\n",
    "* What is the distribution of skin colors amongst alien heroes?\n",
    "\n",
    "Explain your question below this line:\n",
    "____________________________________________________________________________________________________________________________\n",
    "\n",
    "\n",
    "\n",
    "Some sample cells have been provided to give you room to work. If you need to create more cells, you can do this easily by:\n",
    "\n",
    "1. Highlighting a cell and then pressing `esc` to enter command mode.\n",
    "1. Pressing `b` to add a cell below the currently highlighted cell, or `a` to add one above it.  \n",
    "\n",
    "Be sure to include thoughtful, well-labeled visualizations to back up your analysis!"
   ]
  },
  {
   "cell_type": "code",
   "execution_count": 47,
   "metadata": {},
   "outputs": [
    {
     "data": {
      "text/html": [
       "<div>\n",
       "<style scoped>\n",
       "    .dataframe tbody tr th:only-of-type {\n",
       "        vertical-align: middle;\n",
       "    }\n",
       "\n",
       "    .dataframe tbody tr th {\n",
       "        vertical-align: top;\n",
       "    }\n",
       "\n",
       "    .dataframe thead th {\n",
       "        text-align: right;\n",
       "    }\n",
       "</style>\n",
       "<table border=\"1\" class=\"dataframe\">\n",
       "  <thead>\n",
       "    <tr style=\"text-align: right;\">\n",
       "      <th></th>\n",
       "      <th>Agility</th>\n",
       "      <th>Accelerated Healing</th>\n",
       "      <th>Lantern Power Ring</th>\n",
       "      <th>Dimensional Awareness</th>\n",
       "      <th>Cold Resistance</th>\n",
       "      <th>Durability</th>\n",
       "      <th>Stealth</th>\n",
       "      <th>Energy Absorption</th>\n",
       "      <th>Flight</th>\n",
       "      <th>Danger Sense</th>\n",
       "      <th>...</th>\n",
       "      <th>Omniscient</th>\n",
       "      <th>Gender</th>\n",
       "      <th>Eye color</th>\n",
       "      <th>Race</th>\n",
       "      <th>Hair color</th>\n",
       "      <th>Height</th>\n",
       "      <th>Publisher</th>\n",
       "      <th>Skin color</th>\n",
       "      <th>Alignment</th>\n",
       "      <th>Weight</th>\n",
       "    </tr>\n",
       "    <tr>\n",
       "      <th>name</th>\n",
       "      <th></th>\n",
       "      <th></th>\n",
       "      <th></th>\n",
       "      <th></th>\n",
       "      <th></th>\n",
       "      <th></th>\n",
       "      <th></th>\n",
       "      <th></th>\n",
       "      <th></th>\n",
       "      <th></th>\n",
       "      <th></th>\n",
       "      <th></th>\n",
       "      <th></th>\n",
       "      <th></th>\n",
       "      <th></th>\n",
       "      <th></th>\n",
       "      <th></th>\n",
       "      <th></th>\n",
       "      <th></th>\n",
       "      <th></th>\n",
       "      <th></th>\n",
       "    </tr>\n",
       "  </thead>\n",
       "  <tbody>\n",
       "    <tr>\n",
       "      <th>A-Bomb</th>\n",
       "      <td>False</td>\n",
       "      <td>True</td>\n",
       "      <td>False</td>\n",
       "      <td>False</td>\n",
       "      <td>False</td>\n",
       "      <td>True</td>\n",
       "      <td>False</td>\n",
       "      <td>False</td>\n",
       "      <td>False</td>\n",
       "      <td>False</td>\n",
       "      <td>...</td>\n",
       "      <td>False</td>\n",
       "      <td>Male</td>\n",
       "      <td>yellow</td>\n",
       "      <td>Human</td>\n",
       "      <td>No Hair</td>\n",
       "      <td>203.0</td>\n",
       "      <td>Marvel Comics</td>\n",
       "      <td>-</td>\n",
       "      <td>good</td>\n",
       "      <td>441.0</td>\n",
       "    </tr>\n",
       "    <tr>\n",
       "      <th>Abe Sapien</th>\n",
       "      <td>True</td>\n",
       "      <td>True</td>\n",
       "      <td>False</td>\n",
       "      <td>False</td>\n",
       "      <td>True</td>\n",
       "      <td>True</td>\n",
       "      <td>False</td>\n",
       "      <td>False</td>\n",
       "      <td>False</td>\n",
       "      <td>False</td>\n",
       "      <td>...</td>\n",
       "      <td>False</td>\n",
       "      <td>Male</td>\n",
       "      <td>blue</td>\n",
       "      <td>Icthyo Sapien</td>\n",
       "      <td>No Hair</td>\n",
       "      <td>191.0</td>\n",
       "      <td>Dark Horse Comics</td>\n",
       "      <td>blue</td>\n",
       "      <td>good</td>\n",
       "      <td>65.0</td>\n",
       "    </tr>\n",
       "    <tr>\n",
       "      <th>Abin Sur</th>\n",
       "      <td>False</td>\n",
       "      <td>False</td>\n",
       "      <td>True</td>\n",
       "      <td>False</td>\n",
       "      <td>False</td>\n",
       "      <td>False</td>\n",
       "      <td>False</td>\n",
       "      <td>False</td>\n",
       "      <td>False</td>\n",
       "      <td>False</td>\n",
       "      <td>...</td>\n",
       "      <td>False</td>\n",
       "      <td>Male</td>\n",
       "      <td>blue</td>\n",
       "      <td>Ungaran</td>\n",
       "      <td>No Hair</td>\n",
       "      <td>185.0</td>\n",
       "      <td>DC Comics</td>\n",
       "      <td>red</td>\n",
       "      <td>good</td>\n",
       "      <td>90.0</td>\n",
       "    </tr>\n",
       "    <tr>\n",
       "      <th>Abomination</th>\n",
       "      <td>False</td>\n",
       "      <td>True</td>\n",
       "      <td>False</td>\n",
       "      <td>False</td>\n",
       "      <td>False</td>\n",
       "      <td>False</td>\n",
       "      <td>False</td>\n",
       "      <td>False</td>\n",
       "      <td>False</td>\n",
       "      <td>False</td>\n",
       "      <td>...</td>\n",
       "      <td>False</td>\n",
       "      <td>Male</td>\n",
       "      <td>green</td>\n",
       "      <td>Human / Radiation</td>\n",
       "      <td>No Hair</td>\n",
       "      <td>203.0</td>\n",
       "      <td>Marvel Comics</td>\n",
       "      <td>-</td>\n",
       "      <td>bad</td>\n",
       "      <td>441.0</td>\n",
       "    </tr>\n",
       "    <tr>\n",
       "      <th>Abraxas</th>\n",
       "      <td>False</td>\n",
       "      <td>False</td>\n",
       "      <td>False</td>\n",
       "      <td>True</td>\n",
       "      <td>False</td>\n",
       "      <td>False</td>\n",
       "      <td>False</td>\n",
       "      <td>False</td>\n",
       "      <td>True</td>\n",
       "      <td>False</td>\n",
       "      <td>...</td>\n",
       "      <td>False</td>\n",
       "      <td>Male</td>\n",
       "      <td>blue</td>\n",
       "      <td>Cosmic Entity</td>\n",
       "      <td>Black</td>\n",
       "      <td>-99.0</td>\n",
       "      <td>Marvel Comics</td>\n",
       "      <td>-</td>\n",
       "      <td>bad</td>\n",
       "      <td>-99.0</td>\n",
       "    </tr>\n",
       "  </tbody>\n",
       "</table>\n",
       "<p>5 rows × 176 columns</p>\n",
       "</div>"
      ],
      "text/plain": [
       "            Agility Accelerated Healing Lantern Power Ring  \\\n",
       "name                                                         \n",
       "A-Bomb        False                True              False   \n",
       "Abe Sapien     True                True              False   \n",
       "Abin Sur      False               False               True   \n",
       "Abomination   False                True              False   \n",
       "Abraxas       False               False              False   \n",
       "\n",
       "            Dimensional Awareness Cold Resistance Durability Stealth  \\\n",
       "name                                                                   \n",
       "A-Bomb                      False           False       True   False   \n",
       "Abe Sapien                  False            True       True   False   \n",
       "Abin Sur                    False           False      False   False   \n",
       "Abomination                 False           False      False   False   \n",
       "Abraxas                      True           False      False   False   \n",
       "\n",
       "            Energy Absorption Flight Danger Sense  ...   Omniscient Gender  \\\n",
       "name                                               ...                       \n",
       "A-Bomb                  False  False        False  ...        False   Male   \n",
       "Abe Sapien              False  False        False  ...        False   Male   \n",
       "Abin Sur                False  False        False  ...        False   Male   \n",
       "Abomination             False  False        False  ...        False   Male   \n",
       "Abraxas                 False   True        False  ...        False   Male   \n",
       "\n",
       "            Eye color               Race Hair color Height          Publisher  \\\n",
       "name                                                                            \n",
       "A-Bomb         yellow              Human    No Hair  203.0      Marvel Comics   \n",
       "Abe Sapien       blue      Icthyo Sapien    No Hair  191.0  Dark Horse Comics   \n",
       "Abin Sur         blue            Ungaran    No Hair  185.0          DC Comics   \n",
       "Abomination     green  Human / Radiation    No Hair  203.0      Marvel Comics   \n",
       "Abraxas          blue      Cosmic Entity      Black  -99.0      Marvel Comics   \n",
       "\n",
       "            Skin color Alignment Weight  \n",
       "name                                     \n",
       "A-Bomb               -      good  441.0  \n",
       "Abe Sapien        blue      good   65.0  \n",
       "Abin Sur           red      good   90.0  \n",
       "Abomination          -       bad  441.0  \n",
       "Abraxas              -       bad  -99.0  \n",
       "\n",
       "[5 rows x 176 columns]"
      ]
     },
     "execution_count": 47,
     "metadata": {},
     "output_type": "execute_result"
    }
   ],
   "source": [
    "joined_df.head()"
   ]
  },
  {
   "cell_type": "code",
   "execution_count": 48,
   "metadata": {},
   "outputs": [
    {
     "data": {
      "text/plain": [
       "False    448\n",
       "True     212\n",
       "Name: Flight, dtype: int64"
      ]
     },
     "execution_count": 48,
     "metadata": {},
     "output_type": "execute_result"
    }
   ],
   "source": [
    "#Let's see if there is a significant difference between heroes that can fly in terms of weight compared to overall.\n",
    "joined_df[\"Flight\"].value_counts()"
   ]
  },
  {
   "cell_type": "code",
   "execution_count": 49,
   "metadata": {},
   "outputs": [],
   "source": [
    "Has_Flight = joined_df[joined_df[\"Flight\"]==\"True\"]"
   ]
  },
  {
   "cell_type": "code",
   "execution_count": 50,
   "metadata": {
    "scrolled": true
   },
   "outputs": [
    {
     "data": {
      "text/plain": [
       "<matplotlib.axes._subplots.AxesSubplot at 0x1a2240f860>"
      ]
     },
     "execution_count": 50,
     "metadata": {},
     "output_type": "execute_result"
    },
    {
     "data": {
      "image/png": "[encoded data removed]",
      "text/plain": [
       "<Figure size 432x288 with 1 Axes>"
      ]
     },
     "metadata": {
      "needs_background": "light"
     },
     "output_type": "display_data"
    }
   ],
   "source": [
    "Has_Flight.plot.scatter(x=\"Height\", y=\"Weight\", c=\"green\")"
   ]
  },
  {
   "cell_type": "code",
   "execution_count": 51,
   "metadata": {},
   "outputs": [
    {
     "data": {
      "image/png": "[encoded data removed]",
      "text/plain": [
       "<Figure size 432x288 with 1 Axes>"
      ]
     },
     "metadata": {
      "needs_background": "light"
     },
     "output_type": "display_data"
    }
   ],
   "source": [
    "ax=Has_Flight.plot.scatter(\"Weight\", \"Height\")\n",
    "ax.set_aspect(\"equal\")"
   ]
  },
  {
   "cell_type": "code",
   "execution_count": 52,
   "metadata": {},
   "outputs": [
    {
     "data": {
      "text/plain": [
       "name\n",
       "Abraxas         -99.0\n",
       "Adam Strange     88.0\n",
       "Air-Walker      108.0\n",
       "Alan Scott       90.0\n",
       "Amazo           173.0\n",
       "Name: Weight, dtype: float64"
      ]
     },
     "execution_count": 52,
     "metadata": {},
     "output_type": "execute_result"
    }
   ],
   "source": [
    "Has_Flight[\"Weight\"].head()"
   ]
  },
  {
   "cell_type": "code",
   "execution_count": 53,
   "metadata": {},
   "outputs": [],
   "source": [
    "Cannot_Fly = joined_df[joined_df[\"Flight\"]==\"False\"]"
   ]
  },
  {
   "cell_type": "code",
   "execution_count": 54,
   "metadata": {},
   "outputs": [
    {
     "data": {
      "image/png": "[encoded data removed]",
      "text/plain": [
       "<Figure size 576x432 with 2 Axes>"
      ]
     },
     "metadata": {
      "needs_background": "light"
     },
     "output_type": "display_data"
    }
   ],
   "source": [
    "fig = plt.figure(figsize = (8,6))\n",
    "\n",
    "ax1=fig.add_axes([0.1, 0.1, 0.8, 0.8])\n",
    "ax2=fig.add_axes([0.4, 0.5, 0.4, 0.3])\n",
    "\n",
    "ax1.hist(Has_Flight['Weight'], bins=5)\n",
    "ax2.hist(Cannot_Fly[\"Weight\"], bins=5)\n",
    "\n",
    "ax1.set_title(\"Weight Dist of Flying Heroes\")\n",
    "ax2.set_title(\"Weight Dist of non-flying Heroes\")\n",
    "\n",
    "plt.show()"
   ]
  },
  {
   "cell_type": "code",
   "execution_count": 55,
   "metadata": {
    "scrolled": true
   },
   "outputs": [
    {
     "data": {
      "image/png": "[encoded data removed]",
      "text/plain": [
       "<Figure size 720x432 with 2 Axes>"
      ]
     },
     "metadata": {
      "needs_background": "light"
     },
     "output_type": "display_data"
    }
   ],
   "source": [
    "fig = plt.figure(figsize=(10,6))\n",
    "\n",
    "ax1=fig.add_subplot(121)\n",
    "ax2=fig.add_subplot(122)\n",
    "\n",
    "ax1.hist(Has_Flight[\"Weight\"],bins=8)\n",
    "ax2.hist(joined_df[\"Weight\"], bins=8)\n",
    "\n",
    "ax1.set_title(\"Weight Dist of Flying Heroes\")\n",
    "ax2.set_title(\"Weight Dist of all Heroes\")\n",
    "\n",
    "plt.show()"
   ]
  },
  {
   "cell_type": "markdown",
   "metadata": {},
   "source": [
    "There doesn't appear to be much of a difference between the weight distributions of those that can fly and those that can't. "
   ]
  },
  {
   "cell_type": "code",
   "execution_count": 56,
   "metadata": {},
   "outputs": [
    {
     "data": {
      "text/plain": [
       "Index(['name', 'Gender', 'Eye color', 'Race', 'Hair color', 'Height',\n",
       "       'Publisher', 'Skin color', 'Alignment', 'Weight'],\n",
       "      dtype='object')"
      ]
     },
     "execution_count": 56,
     "metadata": {},
     "output_type": "execute_result"
    }
   ],
   "source": [
    "heroes_df.columns"
   ]
  },
  {
   "cell_type": "code",
   "execution_count": 57,
   "metadata": {},
   "outputs": [
    {
     "data": {
      "text/plain": [
       "name\n",
       "A-Bomb         Male\n",
       "Abe Sapien     Male\n",
       "Abin Sur       Male\n",
       "Abomination    Male\n",
       "Abraxas        Male\n",
       "Name: Gender, dtype: object"
      ]
     },
     "execution_count": 57,
     "metadata": {},
     "output_type": "execute_result"
    }
   ],
   "source": [
    "joined_df.Gender.head()"
   ]
  },
  {
   "cell_type": "code",
   "execution_count": 58,
   "metadata": {},
   "outputs": [
    {
     "name": "stdout",
     "output_type": "stream",
     "text": [
      "[('name', 0.0)]\n"
     ]
    }
   ],
   "source": [
    "female_top_5 = top_5_powers(female_heroes_df)\n",
    "print(female_top_5)"
   ]
  },
  {
   "cell_type": "code",
   "execution_count": 59,
   "metadata": {},
   "outputs": [],
   "source": [
    "female_df = joined_df[joined_df[\"Gender\"] == \"Female\"]"
   ]
  },
  {
   "cell_type": "code",
   "execution_count": 60,
   "metadata": {},
   "outputs": [],
   "source": [
    "female_top_5 = top_5_powers(female_df)"
   ]
  },
  {
   "cell_type": "code",
   "execution_count": 61,
   "metadata": {},
   "outputs": [
    {
     "name": "stdout",
     "output_type": "stream",
     "text": [
      "[('Super Strength', 88), ('Stamina', 69), ('Agility', 66), ('Durability', 59), ('Super Speed', 58)]\n"
     ]
    }
   ],
   "source": [
    "print(female_top_5)"
   ]
  },
  {
   "cell_type": "code",
   "execution_count": 62,
   "metadata": {},
   "outputs": [
    {
     "name": "stdout",
     "output_type": "stream",
     "text": [
      "[('Super Strength', 263), ('Stamina', 222), ('Durability', 196), ('Super Speed', 187), ('Agility', 173)]\n"
     ]
    }
   ],
   "source": [
    "male_df = joined_df[joined_df[\"Gender\"] == \"Male\"]\n",
    "male_top_5 = top_5_powers(male_df)\n",
    "print(male_top_5)"
   ]
  },
  {
   "cell_type": "code",
   "execution_count": 63,
   "metadata": {},
   "outputs": [
    {
     "data": {
      "text/plain": [
       "list"
      ]
     },
     "execution_count": 63,
     "metadata": {},
     "output_type": "execute_result"
    }
   ],
   "source": [
    "type(male_top_5)"
   ]
  },
  {
   "cell_type": "code",
   "execution_count": 64,
   "metadata": {},
   "outputs": [
    {
     "data": {
      "text/plain": [
       "('Durability', 196)"
      ]
     },
     "execution_count": 64,
     "metadata": {},
     "output_type": "execute_result"
    }
   ],
   "source": [
    "male_top_5[2]"
   ]
  },
  {
   "cell_type": "code",
   "execution_count": 65,
   "metadata": {},
   "outputs": [],
   "source": [
    "male_top_5 = dict(male_top_5)"
   ]
  },
  {
   "cell_type": "code",
   "execution_count": 84,
   "metadata": {},
   "outputs": [
    {
     "data": {
      "image/png": "[encoded data removed]",
      "text/plain": [
       "<Figure size 432x288 with 1 Axes>"
      ]
     },
     "metadata": {},
     "output_type": "display_data"
    }
   ],
   "source": [
    "plt.bar(range(len(male_top_5)), male_top_5.values(), align='center')\n",
    "plt.xticks(range(len(male_top_5)), list(male_top_5.keys()))\n",
    "plt.title(\"male top 5 powers\")\n",
    "plt.show()"
   ]
  },
  {
   "cell_type": "code",
   "execution_count": 104,
   "metadata": {},
   "outputs": [
    {
     "data": {
      "image/png": "[encoded data removed]",
      "text/plain": [
       "<Figure size 432x288 with 1 Axes>"
      ]
     },
     "metadata": {},
     "output_type": "display_data"
    }
   ],
   "source": [
    "plt.style.use(\"ggplot\")\n",
    "plt.bar(range(len(female_top_5)), female_top_5.values(), align=\"center\")\n",
    "plt.xticks(range(len(female_top_5)), list(female_top_5.keys()))\n",
    "plt.title(\"female top 5 powers\")\n",
    "plt.show()"
   ]
  },
  {
   "cell_type": "code",
   "execution_count": 98,
   "metadata": {},
   "outputs": [
    {
     "name": "stdout",
     "output_type": "stream",
     "text": [
      "{'Super Strength': 88, 'Stamina': 69, 'Agility': 66, 'Durability': 59, 'Super Speed': 58}\n"
     ]
    }
   ],
   "source": [
    "print(female_top_5)"
   ]
  },
  {
   "cell_type": "code",
   "execution_count": 99,
   "metadata": {},
   "outputs": [
    {
     "name": "stdout",
     "output_type": "stream",
     "text": [
      "dict_keys(['Super Strength', 'Stamina', 'Agility', 'Durability', 'Super Speed'])\n"
     ]
    }
   ],
   "source": [
    "print(female_top_5.keys())"
   ]
  },
  {
   "cell_type": "code",
   "execution_count": 89,
   "metadata": {},
   "outputs": [
    {
     "name": "stdout",
     "output_type": "stream",
     "text": [
      "['Super Strength', 'Stamina', 'Agility', 'Durability', 'Super Speed']\n"
     ]
    }
   ],
   "source": [
    "print(list(female_top_5.keys()))"
   ]
  },
  {
   "cell_type": "code",
   "execution_count": 90,
   "metadata": {},
   "outputs": [
    {
     "data": {
      "image/png": "[encoded data removed]",
      "text/plain": [
       "<Figure size 720x432 with 2 Axes>"
      ]
     },
     "metadata": {},
     "output_type": "display_data"
    }
   ],
   "source": [
    "plt.style.use(\"seaborn-darkgrid\")\n",
    "fig = plt.figure(figsize = (10,6))\n",
    "\n",
    "ax = fig.add_subplot(121)\n",
    "ax1 = fig.add_subplot(122)\n",
    "\n",
    "ax.bar(range(len(female_top_5)), female_top_5.values(), align = \"center\")\n",
    "ax1.bar(range(len(male_top_5)), male_top_5.values(), align = \"center\")\n",
    "ax.set_xticks(range(len(female_top_5)), list(female_top_5.keys()))\n",
    "ax1.set_xticks(range(len(male_top_5)), list(male_top_5.keys()))\n",
    "\n",
    "ax1.set_title()\n",
    "plt.show()"
   ]
  },
  {
   "cell_type": "code",
   "execution_count": null,
   "metadata": {},
   "outputs": [],
   "source": [
    "#there doesn't appear to be much of a difference between the top powers for female and male superheroes."
   ]
  },
  {
   "cell_type": "code",
   "execution_count": 105,
   "metadata": {},
   "outputs": [
    {
     "data": {
      "text/plain": [
       "117.08405172413794"
      ]
     },
     "execution_count": 105,
     "metadata": {},
     "output_type": "execute_result"
    }
   ],
   "source": [
    "male_df.Height.mean()"
   ]
  },
  {
   "cell_type": "code",
   "execution_count": 106,
   "metadata": {},
   "outputs": [
    {
     "data": {
      "text/plain": [
       "111.6938202247191"
      ]
     },
     "execution_count": 106,
     "metadata": {},
     "output_type": "execute_result"
    }
   ],
   "source": [
    "female_df.Height.mean()"
   ]
  },
  {
   "cell_type": "code",
   "execution_count": 112,
   "metadata": {},
   "outputs": [
    {
     "data": {
      "text/plain": [
       "Index(['Agility', 'Accelerated Healing', 'Lantern Power Ring',\n",
       "       'Dimensional Awareness', 'Cold Resistance', 'Durability', 'Stealth',\n",
       "       'Energy Absorption', 'Flight', 'Danger Sense',\n",
       "       ...\n",
       "       'Omniscient', 'Gender', 'Eye color', 'Race', 'Hair color', 'Height',\n",
       "       'Publisher', 'Skin color', 'Alignment', 'Weight'],\n",
       "      dtype='object', length=176)"
      ]
     },
     "execution_count": 112,
     "metadata": {},
     "output_type": "execute_result"
    }
   ],
   "source": [
    "male_df.columns"
   ]
  },
  {
   "cell_type": "code",
   "execution_count": 121,
   "metadata": {
    "scrolled": true
   },
   "outputs": [
    {
     "data": {
      "text/plain": [
       "-                     247\n",
       "Human                 195\n",
       "Mutant                 62\n",
       "God / Eternal          14\n",
       "Cyborg                 11\n",
       "Human / Radiation      11\n",
       "Android                 9\n",
       "Symbiote                8\n",
       "Kryptonian              7\n",
       "Alien                   7\n",
       "Demon                   6\n",
       "Alpha                   5\n",
       "Atlantean               5\n",
       "Asgardian               5\n",
       "Cosmic Entity           4\n",
       "Inhuman                 4\n",
       "Human / Altered         3\n",
       "Animal                  3\n",
       "New God                 3\n",
       "Frost Giant             2\n",
       "Eternal                 2\n",
       "Demi-God                2\n",
       "Vampire                 2\n",
       "Saiyan                  2\n",
       "Metahuman               2\n",
       "Amazon                  2\n",
       "Human / Cosmic          2\n",
       "Human-Kree              2\n",
       "Czarnian                1\n",
       "Bizarro                 1\n",
       "                     ... \n",
       "Neyaphem                1\n",
       "Gungan                  1\n",
       "Human-Spartoi           1\n",
       "Martian                 1\n",
       "Talokite                1\n",
       "Strontian               1\n",
       "Human-Vulcan            1\n",
       "Ungaran                 1\n",
       "Dathomirian Zabrak      1\n",
       "Yoda's species          1\n",
       "Rodian                  1\n",
       "Maiar                   1\n",
       "Zen-Whoberian           1\n",
       "Human / Clone           1\n",
       "Clone                   1\n",
       "Xenomorph XX121         1\n",
       "Gorilla                 1\n",
       "Icthyo Sapien           1\n",
       "Flora Colossus          1\n",
       "Korugaran               1\n",
       "Mutant / Clone          1\n",
       "Spartoi                 1\n",
       "Luphomoid               1\n",
       "Yautja                  1\n",
       "Tamaranean              1\n",
       "Kaiju                   1\n",
       "Bolovaxian              1\n",
       "Kakarantharaian         1\n",
       "Human-Vuldarian         1\n",
       "Parademon               1\n",
       "Name: Race, Length: 61, dtype: int64"
      ]
     },
     "execution_count": 121,
     "metadata": {},
     "output_type": "execute_result"
    }
   ],
   "source": [
    "joined_df.Race.value_counts"
   ]
  },
  {
   "cell_type": "code",
   "execution_count": 123,
   "metadata": {},
   "outputs": [
    {
     "data": {
      "text/plain": [
       "array(['yellow', 'blue', 'green', 'brown', '-', 'red', 'violet', 'white',\n",
       "       'purple', 'black', 'silver', 'yellow / red', 'grey',\n",
       "       'yellow (without irises)', 'gold', 'blue / white', 'hazel',\n",
       "       'green / blue', 'white / red', 'indigo', 'amber', 'yellow / blue',\n",
       "       'bown'], dtype=object)"
      ]
     },
     "execution_count": 123,
     "metadata": {},
     "output_type": "execute_result"
    }
   ],
   "source": [
    "joined_df[\"Eye color\"].unique()"
   ]
  },
  {
   "cell_type": "code",
   "execution_count": 130,
   "metadata": {},
   "outputs": [
    {
     "name": "stdout",
     "output_type": "stream",
     "text": [
      "52.277272727272724\n"
     ]
    }
   ],
   "source": [
    "#What is the mean weight without the -99 values? How does it compare to the original mean weight?\n",
    "weight_mean = joined_df.Weight.mean()\n",
    "print(weight_mean)"
   ]
  },
  {
   "cell_type": "code",
   "execution_count": 154,
   "metadata": {},
   "outputs": [],
   "source": [
    "sorted_weight_df = joined_df.loc[joined_df['Weight'] > 0]\n"
   ]
  },
  {
   "cell_type": "code",
   "execution_count": 155,
   "metadata": {},
   "outputs": [],
   "source": [
    "sorted_weight_df = sorted_weight_df.Weight.sort_values(ascending=False)"
   ]
  },
  {
   "cell_type": "code",
   "execution_count": 159,
   "metadata": {},
   "outputs": [
    {
     "data": {
      "text/plain": [
       "113.43191489361702"
      ]
     },
     "execution_count": 159,
     "metadata": {},
     "output_type": "execute_result"
    }
   ],
   "source": [
    "sorted_weight_df.mean()"
   ]
  },
  {
   "cell_type": "code",
   "execution_count": null,
   "metadata": {},
   "outputs": [],
   "source": [
    "#mean weight without the -99 values is more than twice as high..."
   ]
  },
  {
   "cell_type": "code",
   "execution_count": 161,
   "metadata": {},
   "outputs": [
    {
     "data": {
      "text/plain": [
       "Index(['name', 'Gender', 'Eye color', 'Race', 'Hair color', 'Height',\n",
       "       'Publisher', 'Skin color', 'Alignment', 'Weight'],\n",
       "      dtype='object')"
      ]
     },
     "execution_count": 161,
     "metadata": {},
     "output_type": "execute_result"
    }
   ],
   "source": [
    "#What is the mean weight of humans versus mutants versus cyborgs?\n",
    "heroes_df.columns"
   ]
  },
  {
   "cell_type": "code",
   "execution_count": 168,
   "metadata": {},
   "outputs": [
    {
     "data": {
      "text/plain": [
       "53.16826923076923"
      ]
     },
     "execution_count": 168,
     "metadata": {},
     "output_type": "execute_result"
    }
   ],
   "source": [
    "heroes_df.loc[heroes_df[\"Race\"] == \"Human\"].Weight.mean()\n"
   ]
  },
  {
   "cell_type": "code",
   "execution_count": 169,
   "metadata": {},
   "outputs": [
    {
     "data": {
      "text/plain": [
       "53.507936507936506"
      ]
     },
     "execution_count": 169,
     "metadata": {},
     "output_type": "execute_result"
    }
   ],
   "source": [
    "heroes_df.loc[heroes_df[\"Race\"] == \"Mutant\"].Weight.mean()"
   ]
  },
  {
   "cell_type": "code",
   "execution_count": 170,
   "metadata": {},
   "outputs": [
    {
     "name": "stdout",
     "output_type": "stream",
     "text": [
      "The avg weight of a mutant is 117.9090909090909\n"
     ]
    }
   ],
   "source": [
    "x=heroes_df.loc[heroes_df[\"Race\"] == \"Cyborg\"].Weight.mean()\n",
    "print(\"The avg weight of a mutant is {}\".format(x))"
   ]
  },
  {
   "cell_type": "markdown",
   "metadata": {},
   "source": [
    "## Summary\n",
    "\n",
    "In this lab, we demonstrated our mastery of:\n",
    "* Using all of our Pandas knowledge to date to clean the dataset and deal with null values\n",
    "* Using Queries and aggregations to group the data into interesting subsets as needed\n",
    "* Using descriptive statistics and data visualization to find answers to questions we may have about the data"
   ]
  }
 ],
 "metadata": {
  "kernelspec": {
   "display_name": "learn-env",
   "language": "python",
   "name": "learn-env"
  },
  "language_info": {
   "codemirror_mode": {
    "name": "ipython",
    "version": 3
   },
   "file_extension": ".py",
   "mimetype": "text/x-python",
   "name": "python",
   "nbconvert_exporter": "python",
   "pygments_lexer": "ipython3",
   "version": "3.6.6"
  }
 },
 "nbformat": 4,
 "nbformat_minor": 2
}
